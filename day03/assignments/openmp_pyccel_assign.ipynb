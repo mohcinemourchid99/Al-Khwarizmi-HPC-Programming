{
  "cells": [
    {
      "cell_type": "markdown",
      "id": "f03849c1",
      "metadata": {
        "id": "f03849c1"
      },
      "source": [
        "*Note: all those exercises should be done using python with pyccel openmp*"
      ]
    },
    {
      "cell_type": "markdown",
      "id": "a2db4b9c",
      "metadata": {
        "id": "a2db4b9c"
      },
      "source": [
        "## Exercise 1 Hello World\n",
        "\n",
        "1. Write an OpenMP program displaying the number of threads used for the execution and the rank of each of the threads.\n",
        "3. Test the programs obtained with different numbers of threads for the parallel program.\n",
        "\n",
        "**Output Example**\n",
        "```shell\n",
        ">> Python hello.py\n",
        "Hello from the rank 2 thread\n",
        "Hello from the rank 0 thread\n",
        "Hello from the rank 3 thread\n",
        "Hello from the rank 1 thread\n",
        "Hello from the rank 4 thread\n",
        "Parallel execution of hello_world with 4 threads\n",
        "```\n",
        "*Note that the output order maybe different*"
      ]
    },
    {
      "cell_type": "code",
      "execution_count": null,
      "id": "7a1400d8",
      "metadata": {
        "id": "7a1400d8"
      },
      "outputs": [],
      "source": [
        "import numpy as np\n",
        "import time\n",
        "from pyccel.epyccel import epyccel\n",
        "from pyccel.decorators import types"
      ]
    },
    {
      "cell_type": "code",
      "execution_count": null,
      "id": "a7eeb409",
      "metadata": {
        "id": "a7eeb409",
        "outputId": "ab4db3c5-95f8-466c-cba3-a7fa744839d9"
      },
      "outputs": [
        {
          "name": "stdout",
          "output_type": "stream",
          "text": [
            "Overwriting hello.py\n"
          ]
        }
      ],
      "source": [
        "%%file hello.py\n",
        "from pyccel.stdlib.internal.openmp import omp_set_num_threads, omp_set_dynamic\n",
        "from pyccel.decorators import types\n",
        "from pyccel.stdlib.internal.openmp import omp_set_num_threads, omp_get_num_threads, omp_get_thread_num\n",
        "\n",
        "@types('int')\n",
        "def get_num_threads(n):\n",
        "    #omp_set_dynamic(0)\n",
        "    omp_set_num_threads(int(n))\n",
        "    #$ omp parallel\n",
        "    print(\"Hello from this$ omp end parallele rank \", int(omp_get_thread_num()),\" thread\")\n",
        "    result = omp_get_num_threads()\n",
        "    #$ omp end parallel\n",
        "    \n",
        "    return result\n",
        "\n",
        "if __name__ == \"__main__\" :\n",
        "    x = get_num_threads(5)\n",
        "    print(\"parallel execution of hello_world with \",x , \"threads\")"
      ]
    },
    {
      "cell_type": "code",
      "execution_count": null,
      "id": "977be3f7",
      "metadata": {
        "id": "977be3f7"
      },
      "outputs": [],
      "source": [
        "# enter command for compile and run the program\n",
        "!pyccel hello.py --language=c --openmp"
      ]
    },
    {
      "cell_type": "code",
      "execution_count": null,
      "id": "588a6cfa",
      "metadata": {
        "id": "588a6cfa",
        "outputId": "b77f8c69-69c3-429f-a4f8-2214bc3cbfbd"
      },
      "outputs": [
        {
          "name": "stdout",
          "output_type": "stream",
          "text": [
            "Hello from this$ omp end parallele rank  1  thread\r\n",
            "Hello from this$ omp end parallele rank  2  thread\r\n",
            "Hello from this$ omp end parallele rank  3  thread\r\n",
            "Hello from this$ omp end parallele rank  4  thread\r\n",
            "Hello from this$ omp end parallele rank  0  thread\r\n",
            "parallel execution of hello_world with  5 threads\r\n"
          ]
        }
      ],
      "source": [
        "!./hello"
      ]
    },
    {
      "cell_type": "markdown",
      "id": "0ee0d684",
      "metadata": {
        "id": "0ee0d684"
      },
      "source": [
        "## Exercise 2 Matrix product\n",
        "\n",
        "Considering the following code for matrix product:\n",
        "\n",
        "1. Using pyccel, epyccelize the `matrix_prod` function, and time the execution of epyccelized function.\n",
        "2. Insert the appropriate OpenMP directives and analyse the code performance.\n",
        "3. Test the loop iteration repartition modes (`STATIC`, `DYNAMIC`, `GUIDED`) and vary the chunk sizes.\n",
        "**Example output**\n",
        "\n",
        "```bash\n",
        "   Value of M and N           : 20 20 \n",
        "    Temps elapsed              : 0.0009012222290039062 \n",
        "    Temps CPU                  : 0.0 \n",
        "    Partiel results            : 2790.0 2690.0 ... -3610.0 -4350.0 \n",
        "\n",
        " Execution of Matrix production in parallele with                     8 threads\n",
        "```"
      ]
    },
    {
      "cell_type": "code",
      "execution_count": null,
      "id": "e94defd2",
      "metadata": {
        "id": "e94defd2",
        "outputId": "1d45dace-8d05-45f8-826c-23ce7e190955"
      },
      "outputs": [
        {
          "name": "stdout",
          "output_type": "stream",
          "text": [
            "CPU times: user 9.63 ms, sys: 262 µs, total: 9.89 ms\n",
            "Wall time: 9.57 ms\n"
          ]
        }
      ],
      "source": [
        "def matrix_prod(A, B, C, N, M):\n",
        "    \n",
        "    for i in range( M ):\n",
        "        for j in range( N ):\n",
        "            A[ i, j ] = (i + 1) + (j + 1)\n",
        "\n",
        "    \n",
        "    for i in range( N ):\n",
        "        for j in range( M ):\n",
        "            B[ i, j ] = (i + 1) - (j + 1)\n",
        "\n",
        "    \n",
        "    for i in range( M ):\n",
        "        for j in range( M ):\n",
        "            C[ i, j ] = 0\n",
        "    # ...\n",
        "\n",
        "    # Matrix Production\n",
        "    \n",
        "    for i in range( M ):\n",
        "        for j in range( M ):\n",
        "            for k in range( N ):\n",
        "                C[ i, j ] += A[ i, k ] * B[ k, j ]\n",
        "\n",
        "\n",
        "#     print(\"Execution of Matrix production in parallele with\",nb_threads, \"threads\")\n",
        "\n",
        "\n",
        "if __name__ == \"__main__\":\n",
        "    import numpy as np\n",
        "    import time\n",
        "    import math\n",
        "\n",
        "    M = 20\n",
        "    N = 20\n",
        "\n",
        "    # Declare Matrices\n",
        "    A = np.empty((M, N), dtype=np.double)\n",
        "    B = np.empty((N, M), dtype=np.double)\n",
        "    C = np.empty((M, M), dtype=np.double)\n",
        "\n",
        "#  run and time the matrix_prod function\n",
        "%time matrix_prod(A,B,C,N,M)"
      ]
    },
    {
      "cell_type": "markdown",
      "id": "5379e56e",
      "metadata": {
        "id": "5379e56e"
      },
      "source": [
        "## Utilisation de Pyccel"
      ]
    },
    {
      "cell_type": "code",
      "execution_count": null,
      "id": "7b2003e4",
      "metadata": {
        "id": "7b2003e4"
      },
      "outputs": [],
      "source": [
        "def matrix_prod_pyc(A : 'float[:,:]', B : 'float[:,:]', C:'float[:,:]', N : 'int', M :'int'):\n",
        "    \n",
        "    for i in range( M ):\n",
        "        for j in range( N ):\n",
        "            A[ i, j ] = (i + 1) + (j + 1)\n",
        "\n",
        "    \n",
        "    for i in range( N ):\n",
        "        for j in range( M ):\n",
        "            B[ i, j ] = (i + 1) - (j + 1)\n",
        "\n",
        "    \n",
        "    for i in range( M ):\n",
        "        for j in range( M ):\n",
        "            C[ i, j ] = 0\n",
        "    # ...\n",
        "\n",
        "    # Matrix Production\n",
        "    \n",
        "    for i in range( M ):\n",
        "        for j in range( M ):\n",
        "            for k in range( N ):\n",
        "                C[ i, j ] += A[ i, k ] * B[ k, j ]"
      ]
    },
    {
      "cell_type": "code",
      "execution_count": null,
      "id": "551a45a9",
      "metadata": {
        "id": "551a45a9"
      },
      "outputs": [],
      "source": [
        "import numpy as np\n",
        "import time\n",
        "import math\n",
        "\n",
        "M = 20\n",
        "N = 20\n",
        "\n",
        "# Declare Matrices\n",
        "A = np.empty((M, N), dtype=np.double)\n",
        "B = np.empty((N, M), dtype=np.double)\n",
        "C = np.empty((M, M), dtype=np.double) "
      ]
    },
    {
      "cell_type": "code",
      "execution_count": null,
      "id": "589ec17e",
      "metadata": {
        "id": "589ec17e",
        "outputId": "59d95e2d-d5cd-4b3b-8ccc-724fdd2a4c58"
      },
      "outputs": [
        {
          "name": "stdout",
          "output_type": "stream",
          "text": [
            "CPU times: user 25 µs, sys: 5 µs, total: 30 µs\n",
            "Wall time: 33.6 µs\n"
          ]
        }
      ],
      "source": [
        "#  run and time the matrix_prod function\n",
        "matrix_prod_pyccel = epyccel(matrix_prod_pyc)\n",
        "%time matrix_prod_pyccel(A,B,C,N,M)   "
      ]
    },
    {
      "cell_type": "markdown",
      "id": "4a776cad",
      "metadata": {
        "id": "4a776cad"
      },
      "source": [
        "## Utilisation de OpenMP "
      ]
    },
    {
      "cell_type": "code",
      "execution_count": null,
      "id": "1ac86fcf",
      "metadata": {
        "id": "1ac86fcf",
        "outputId": "7b3c9db7-b530-4380-97b6-152415d33190"
      },
      "outputs": [
        {
          "name": "stdout",
          "output_type": "stream",
          "text": [
            "Overwriting matrice_prod.py\n"
          ]
        }
      ],
      "source": [
        "%%file matrice_prod.py\n",
        "from pyccel.stdlib.internal.openmp import omp_set_num_threads, omp_set_dynamic\n",
        "from pyccel.decorators import types\n",
        "from pyccel.stdlib.internal.openmp import omp_set_num_threads, omp_get_num_threads, omp_get_thread_num\n",
        "import numpy as np\n",
        "\n",
        "@types('int','int')\n",
        "def pro_mat_collaps(M,N):\n",
        "    #omp_set_dynamic(0)\n",
        "    #omp_set_num_threads(int(n))\n",
        "    \n",
        "    print (\"N = \", N,\"  M = \", M,\"\\n\" )\n",
        "    \n",
        "    A = np.empty((M, N))\n",
        "    B = np.empty((N, M))\n",
        "    C = np.empty((M, M))\n",
        "    \n",
        "    \n",
        "    #$ omp parallel\n",
        "    #$ omp for collapse(2)\n",
        "    for i in range(M):\n",
        "        for j in range(N):\n",
        "            A[ i, j ] = (i + 1) + (j + 1)\n",
        "    #$ omp end parallel\n",
        "    \n",
        "\n",
        "    #$ omp parallel\n",
        "    #$ omp for collapse(2)\n",
        "    for i in range(N):\n",
        "        for j in range(M):\n",
        "            B[ i, j ] = (i + 1) - (j + 1)\n",
        "    #$ omp end parallel\n",
        "\n",
        "    #$ omp parallel\n",
        "    #$ omp for collapse(2)\n",
        "    for i in range( M ):\n",
        "        for j in range( M ):\n",
        "            C[ i, j ] = 0\n",
        "    #$ omp end parallel\n",
        "\n",
        "    \n",
        "    #$ omp parallel\n",
        "    #$ omp for collapse (2)\n",
        "    for i in range( M ):\n",
        "        for j in range( M ):\n",
        "            for k in range( N ):\n",
        "                C[ i, j ] += A[ i, k ] * B[ k, j ]\n",
        "    result = omp_get_num_threads()\n",
        "    #$ omp end parallel\n",
        "   \n",
        "    return result\n",
        "\n",
        "if __name__ == \"__main__\" :\n",
        "\n",
        "    M = 20\n",
        "    N = 20\n",
        "    # Declare Matrices\n",
        "\n",
        "    x = pro_mat_collaps(M,N)\n",
        "    print(\"Execution of Matrix production in parallele with  \",x , \"threads\\n\\n\")"
      ]
    },
    {
      "cell_type": "code",
      "execution_count": null,
      "id": "4378140c",
      "metadata": {
        "id": "4378140c"
      },
      "outputs": [],
      "source": [
        "# enter command for compile and run the program\n",
        "!pyccel matrice_prod.py --language=c --openmp"
      ]
    },
    {
      "cell_type": "code",
      "execution_count": null,
      "id": "ad2a09a7",
      "metadata": {
        "id": "ad2a09a7",
        "outputId": "e568e32c-7ce9-4202-a477-734cab41c365"
      },
      "outputs": [
        {
          "name": "stdout",
          "output_type": "stream",
          "text": [
            "N =  20   M =  20 \n",
            "\n",
            "Execution of Matrix production in parallele with   16 threads\n",
            "\n",
            "\n",
            "CPU times: user 5.27 ms, sys: 5.23 ms, total: 10.5 ms\n",
            "Wall time: 122 ms\n"
          ]
        }
      ],
      "source": [
        "%time !export OMP_NUM_THREADS=16; ./matrice_prod"
      ]
    },
    {
      "cell_type": "markdown",
      "id": "db729e9b",
      "metadata": {
        "id": "db729e9b"
      },
      "source": [
        "## Exercise 3 Jacobi method\n",
        "\n",
        "Considering the following code for a general linear system solver:\n",
        "\n",
        "$$ A \\times x = b $$\n",
        "\n",
        "using the Jacobi iterative method.\n",
        "In this exercice, you must solve the system in parallel\n",
        "   \n",
        "**Example Output**\n",
        "    \n",
        "```bash\n",
        "System size    : 20 \n",
        " Iterations     : 21 \n",
        " Stand          : 2.9100049961372497e-08 \n",
        " Elapsed Time   : 7.447303771972656 \n",
        " CPU time       : 0.921875 \n",
        "```"
      ]
    },
    {
      "cell_type": "code",
      "execution_count": null,
      "id": "a8af86ef",
      "metadata": {
        "id": "a8af86ef",
        "outputId": "aa02b38a-6c92-402b-9c0a-06316c946e23"
      },
      "outputs": [
        {
          "name": "stdout",
          "output_type": "stream",
          "text": [
            "System size    : 20 \n",
            " Iterations     : 21 \n",
            " Stand          : 0.006285950227004303 \n",
            " Elapsed Time   : 0.44754791259765625 \n",
            " CPU time       : 0.07680978700000018 \n",
            "\n"
          ]
        }
      ],
      "source": [
        "@types('float [:,:]','float [:]','float [:]','int','float')\n",
        "def jacobi(a ,b, x, n, eps):\n",
        "\n",
        "#     print(\"Execution of Jacobi in parallel with\", nb_tasks, \"threads\")\n",
        "    # Jacobi method resolution\n",
        "    import numpy as np\n",
        "    import math\n",
        "    x_courant = np.empty(n, dtype=np.double)\n",
        "    iteration = 0\n",
        "\n",
        "    #$ omp parallel\n",
        "    while(1):\n",
        "        \n",
        "        iteration += 1\n",
        "        \n",
        "        for i in range(n):\n",
        "            x_courant[i] = 0\n",
        "            for j in range(i):\n",
        "                x_courant[i] += a[ j, i ] * x[j]\n",
        "\n",
        "            for j in range(i + 1, n):\n",
        "                x_courant[i] += a[ j, i ] * x[j]\n",
        "\n",
        "            x_courant[i] = (b[i] - x_courant[i]) / a[ i, i ]\n",
        "\n",
        "        # Convergence test\n",
        "        \n",
        "        absmax = 0.\n",
        "        for i in range(n):\n",
        "            curr = abs(x[i] - x_courant[i])\n",
        "            if curr > absmax:\n",
        "                absmax = curr\n",
        "        stand = absmax / n\n",
        "        if stand <= eps or iteration > n:\n",
        "            break\n",
        "\n",
        "        # copy x_courant into x\n",
        "        for i in range(n):\n",
        "            x [i] = x_courant[i]\n",
        "            \n",
        "    #$ omp end parallel    \n",
        "            \n",
        "    return stand, iteration\n",
        "\n",
        "\n",
        "if __name__ == \"__main__\":\n",
        "\n",
        "    import numpy as np\n",
        "    import time, random, math, sys\n",
        "\n",
        "    # Matrix default dimension\n",
        "    n = 20\n",
        "    diag = 20\n",
        "\n",
        "    # Initialize of the matrices\n",
        "    np.random.seed(421)  # for reproductibles results\n",
        "    a = np.random.uniform(0, 1, size=(n, n))\n",
        "    b = np.random.uniform(0, 1, size=n)\n",
        "\n",
        "    # We strengthen the main diagonal of the matrix\n",
        "    for i in range(n):\n",
        "        a[ i, i ] += diag\n",
        "\n",
        "    # Initial solution\n",
        "    x = np.ones(n, dtype=np.double)\n",
        "\n",
        "    # start CPU timing\n",
        "    cpu_0 = time.process_time()\n",
        "\n",
        "    # start Wall timing\n",
        "    elapsed_0 = time.time()\n",
        "\n",
        "    # Pyccelize jacobi function\n",
        "    from pyccel.epyccel import epyccel\n",
        "    p_jacobi = epyccel(jacobi, language='c', accelerators=['openmp'])\n",
        "\n",
        "    eps = sys.float_info.epsilon\n",
        "\n",
        "    # -------------------- computing ------------------\n",
        "    stand, iteration = p_jacobi(a, b, x, n, eps)\n",
        "    # ------------------ End computing ----------------\n",
        "\n",
        "    # CPU time\n",
        "    cpu_1 = time.process_time()\n",
        "    cpu = cpu_1 - cpu_0\n",
        "\n",
        "    # Wall timing\n",
        "    elapsed_1 = time.time()\n",
        "    elapsed = elapsed_1 - elapsed_0\n",
        "\n",
        "    print(\n",
        "        \"System size    :\", n,          '\\n',\n",
        "        \"Iterations     :\", iteration,  '\\n',\n",
        "        \"Stand          :\", stand,      '\\n',\n",
        "        \"Elapsed Time   :\", elapsed,    '\\n',\n",
        "        \"CPU time       :\", cpu,        '\\n'\n",
        "    )"
      ]
    },
    {
      "cell_type": "markdown",
      "id": "acd992ae",
      "metadata": {
        "id": "acd992ae"
      },
      "source": [
        "## Exercise 4 Calculation of π\n",
        "\n",
        "The aim of this exercise is to calculate π by numerical integration knowing that Considering the following code for matrix product: $\\int_{0}^{1} \\frac{4}{1 + x^2} = {\\pi} $\n",
        "\n",
        "The following program is for calculating the value of\n",
        "π by the rectangle method (mid-point). Let $f(x) = \\frac{4}{1 + x^2} $\n",
        "2 be the function to integrate, N and $ h = \\frac{1}{N} $ (respectively) the number of points, and the discretization width on the integration\n",
        "interval $[0, 1]$.\n",
        "\n",
        "Analyse the performance of the codes, then optimise  your code using OpenMP directives."
      ]
    },
    {
      "cell_type": "code",
      "execution_count": null,
      "id": "c2773e5e",
      "metadata": {
        "id": "c2773e5e",
        "outputId": "6644ddf8-e4ee-4180-c47b-122ab379b4ae"
      },
      "outputs": [
        {
          "name": "stdout",
          "output_type": "stream",
          "text": [
            "Overwriting pi4.py\n"
          ]
        }
      ],
      "source": [
        "%%file pi.py\n",
        "from pyccel.decorators import types\n",
        "\n",
        "\n",
        "def pi(n:'int'):\n",
        "#     print(\"Execution of PI in parallel with\", nb_tasks,\"threads\")\n",
        "\n",
        "    h = float(1/n)\n",
        "    for k in range(100):\n",
        "        Pi_calc = 0.\n",
        "        for i in range(n):\n",
        "            x = h * (i + 0.5)\n",
        "            Pi_calc += 4.0 / (1. + x * x)\n",
        "\n",
        "\n",
        "        Pi_calc = h * Pi_calc\n",
        "    return Pi_calc"
      ]
    },
    {
      "cell_type": "code",
      "execution_count": null,
      "id": "38eb3ebe",
      "metadata": {
        "id": "38eb3ebe",
        "outputId": "9f52f6f3-8593-464b-bf82-406b1714a44d"
      },
      "outputs": [
        {
          "name": "stdout",
          "output_type": "stream",
          "text": [
            "   Number of intervals        : 300 \n",
            "    | Pi_estime - Pi_calcule | : 9.259259248217688e-07 \n",
            "    Temps elapsed              : 0.00034165382385253906 \n",
            "    Temps CPU                  : 0.0003506629999998623 \n",
            "\n"
          ]
        }
      ],
      "source": [
        "import time, math\n",
        "\n",
        "if __name__ == '__main__':\n",
        "    #                  __\n",
        "    #  But : calcul de || par la methode des rectangles (point milieu).\n",
        "    #\n",
        "    #                   / 1\n",
        "    #                  |       4            __\n",
        "    #                  |   ----------  dx = ||\n",
        "    #                  |    1 + x**2\n",
        "    #                 / 0\n",
        "\n",
        "\n",
        "    n = 300\n",
        "\n",
        "    # Length of the integration interval\n",
        "    h = 1.0 / n\n",
        "\n",
        "    from pyccel.epyccel import epyccel\n",
        "    import pi\n",
        "    pyc_pi = epyccel(pi, language='c', accelerators=['openmp'])\n",
        "\n",
        "    # start timing\n",
        "    tcpu_0 = time.process_time() # CPU time\n",
        "    t_elapsed_0 = time.time()    # Wall time\n",
        "     # -------------------- computing ------------------\n",
        "\n",
        "    Pi_calc = pyc_pi(n)\n",
        "\n",
        "    # ------------------ End computing ----------------\n",
        "\n",
        "    # CPU time spent\n",
        "    tcpu_1 = time.process_time()\n",
        "    tcpu = tcpu_1 - tcpu_0\n",
        "\n",
        "    # Wall time spent\n",
        "    t_elapsed_1 = time.time()\n",
        "    t_elapsed = t_elapsed_1 - t_elapsed_0\n",
        "\n",
        "    # deviation between the estimated value and the calculated value of Pi\n",
        "    Pi_estime = math.acos(-1)\n",
        "    deviat = math.fabs(Pi_estime - Pi_calc)\n",
        "\n",
        "    # Print result\n",
        "    print(\n",
        "      \"   Number of intervals        :\", n,         \"\\n\",\n",
        "      \"   | Pi_estime - Pi_calcule | :\", deviat,    \"\\n\",\n",
        "      \"   Temps elapsed              :\", t_elapsed, \"\\n\",\n",
        "      \"   Temps CPU                  :\", tcpu,      \"\\n\",\n",
        "    )"
      ]
    },
    {
      "cell_type": "markdown",
      "id": "54e9a63a",
      "metadata": {
        "id": "54e9a63a"
      },
      "source": [
        "## Exercise 5 Reduction of an array\n",
        "\n",
        "The given program contained in the `reduction_tab.py` file is extracted from a chemistry code. It reduces a three-dimensional array into a vector. The aim of this exercise is to parallelize this calculation kernel without changing the loop order in the provided code (i.e. k,j,i)\n",
        "\n",
        "1. Analyse the data-sharing attributes of the variables and adapt the source code so that the K outermost loop is parallelized.\n",
        "2. Compare the performance obtained by using the thread/core binding default execution on Ada and by using scatter binding. Suggest an explanation for the poor performance of the latter.\n",
        "3. Optimise the source code for the scatter mode with taking into account the memory affinity. Why does this third series of executions give the best performance "
      ]
    },
    {
      "cell_type": "code",
      "execution_count": null,
      "id": "9b9fdd28",
      "metadata": {
        "id": "9b9fdd28",
        "outputId": "5d723ad9-d90b-40e4-dad5-232f9519de1c"
      },
      "outputs": [
        {
          "name": "stdout",
          "output_type": "stream",
          "text": [
            "Overwriting reduction_tab1.py\n"
          ]
        }
      ],
      "source": [
        "%%file reduction_tab.py\n",
        "\n",
        "from pyccel.stdlib.internal.openmp import omp_get_thread_num\n",
        "from pyccel.decorators import types\n",
        "\n",
        "\n",
        "def initialize_table(tab, nmolec, n, nmol):\n",
        "    # Initialisation du tableau\n",
        "    # First-touch pour garantir un fonctionnement optimal sur les systemes NUMA\n",
        "    for k in range(nmolec):\n",
        "        for j in range(n):\n",
        "            for i in range(nmol):\n",
        "                tab[ i,j,k ] = i + j + k\n",
        "\n",
        "\n",
        "def reduction(tab:'float [:,:]', tab1 : 'float [:]', tab2 : 'float [:]', nmolec :'int', nmol:'int', n:'int'):\n",
        "    for k in range(nmolec):\n",
        "        tab1[:nmol] = 0\n",
        "        for j in range(n):\n",
        "            for i in range(nmol):\n",
        "                tab1[i] = tab1[i] + tab[i,j,k]\n",
        "        tab2[:nmol] = tab2[:nmol] + 2 * tab1[:nmol]\n",
        "\n"
      ]
    },
    {
      "cell_type": "code",
      "execution_count": null,
      "id": "659bd746",
      "metadata": {
        "scrolled": true,
        "id": "659bd746",
        "outputId": "4eac4651-2ef4-4aa3-af3a-b813f12a0458"
      },
      "outputs": [
        {
          "ename": "IndexError",
          "evalue": "Rank mismatch.",
          "output_type": "error",
          "traceback": [
            "\u001b[0;31m---------------------------------------------------------------------------\u001b[0m",
            "\u001b[0;31mIndexError\u001b[0m                                Traceback (most recent call last)",
            "\u001b[0;32m/tmp/ipykernel_3042/699207274.py\u001b[0m in \u001b[0;36m<module>\u001b[0;34m\u001b[0m\n\u001b[1;32m     18\u001b[0m     \u001b[0;32mimport\u001b[0m  \u001b[0mreduction_tab1\u001b[0m\u001b[0;34m\u001b[0m\u001b[0;34m\u001b[0m\u001b[0m\n\u001b[1;32m     19\u001b[0m \u001b[0;34m\u001b[0m\u001b[0m\n\u001b[0;32m---> 20\u001b[0;31m     \u001b[0mreduction_p\u001b[0m \u001b[0;34m=\u001b[0m \u001b[0mepyccel\u001b[0m\u001b[0;34m(\u001b[0m\u001b[0mreduction\u001b[0m\u001b[0;34m,\u001b[0m \u001b[0mlanguage\u001b[0m\u001b[0;34m=\u001b[0m\u001b[0;34m'c'\u001b[0m\u001b[0;34m,\u001b[0m \u001b[0maccelerators\u001b[0m\u001b[0;34m=\u001b[0m\u001b[0;34m[\u001b[0m\u001b[0;34m'openmp'\u001b[0m\u001b[0;34m]\u001b[0m\u001b[0;34m)\u001b[0m\u001b[0;34m\u001b[0m\u001b[0;34m\u001b[0m\u001b[0m\n\u001b[0m\u001b[1;32m     21\u001b[0m \u001b[0;34m\u001b[0m\u001b[0m\n\u001b[1;32m     22\u001b[0m \u001b[0;31m#     print(\"Execution of reduction table in parallele with\", reduction.threads_num, \"threads\")\u001b[0m\u001b[0;34m\u001b[0m\u001b[0;34m\u001b[0m\u001b[0m\n",
            "\u001b[0;32m~/anaconda3/lib/python3.9/site-packages/pyccel/epyccel.py\u001b[0m in \u001b[0;36mepyccel\u001b[0;34m(python_function_or_module, **kwargs)\u001b[0m\n\u001b[1;32m    331\u001b[0m     \u001b[0;31m# Serial version\u001b[0m\u001b[0;34m\u001b[0m\u001b[0;34m\u001b[0m\u001b[0m\n\u001b[1;32m    332\u001b[0m     \u001b[0;32melse\u001b[0m\u001b[0;34m:\u001b[0m\u001b[0;34m\u001b[0m\u001b[0;34m\u001b[0m\u001b[0m\n\u001b[0;32m--> 333\u001b[0;31m         \u001b[0mmod\u001b[0m\u001b[0;34m,\u001b[0m \u001b[0mfun\u001b[0m \u001b[0;34m=\u001b[0m \u001b[0mepyccel_seq\u001b[0m\u001b[0;34m(\u001b[0m \u001b[0mpython_function_or_module\u001b[0m\u001b[0;34m,\u001b[0m \u001b[0;34m**\u001b[0m\u001b[0mkwargs\u001b[0m \u001b[0;34m)\u001b[0m\u001b[0;34m\u001b[0m\u001b[0;34m\u001b[0m\u001b[0m\n\u001b[0m\u001b[1;32m    334\u001b[0m \u001b[0;34m\u001b[0m\u001b[0m\n\u001b[1;32m    335\u001b[0m     \u001b[0;31m# Return Fortran function (if any), otherwise module\u001b[0m\u001b[0;34m\u001b[0m\u001b[0;34m\u001b[0m\u001b[0m\n",
            "\u001b[0;32m~/anaconda3/lib/python3.9/site-packages/pyccel/epyccel.py\u001b[0m in \u001b[0;36mepyccel_seq\u001b[0;34m(function_or_module, language, compiler, fflags, wrapper_flags, accelerators, verbose, debug, includes, libdirs, modules, libs, folder)\u001b[0m\n\u001b[1;32m    166\u001b[0m         \u001b[0;32mtry\u001b[0m\u001b[0;34m:\u001b[0m\u001b[0;34m\u001b[0m\u001b[0;34m\u001b[0m\u001b[0m\n\u001b[1;32m    167\u001b[0m             \u001b[0;31m# Generate shared library\u001b[0m\u001b[0;34m\u001b[0m\u001b[0;34m\u001b[0m\u001b[0m\n\u001b[0;32m--> 168\u001b[0;31m             execute_pyccel(pymod_filename,\n\u001b[0m\u001b[1;32m    169\u001b[0m                            \u001b[0mverbose\u001b[0m       \u001b[0;34m=\u001b[0m \u001b[0mverbose\u001b[0m\u001b[0;34m,\u001b[0m\u001b[0;34m\u001b[0m\u001b[0;34m\u001b[0m\u001b[0m\n\u001b[1;32m    170\u001b[0m                            \u001b[0mlanguage\u001b[0m      \u001b[0;34m=\u001b[0m \u001b[0mlanguage\u001b[0m\u001b[0;34m,\u001b[0m\u001b[0;34m\u001b[0m\u001b[0;34m\u001b[0m\u001b[0m\n",
            "\u001b[0;32m~/anaconda3/lib/python3.9/site-packages/pyccel/codegen/pipeline.py\u001b[0m in \u001b[0;36mexecute_pyccel\u001b[0;34m(fname, syntax_only, semantic_only, convert_only, verbose, folder, language, compiler, fflags, wrapper_flags, includes, libdirs, modules, libs, debug, accelerators, output_name, compiler_export_file)\u001b[0m\n\u001b[1;32m    232\u001b[0m     \u001b[0;32mtry\u001b[0m\u001b[0;34m:\u001b[0m\u001b[0;34m\u001b[0m\u001b[0;34m\u001b[0m\u001b[0m\n\u001b[1;32m    233\u001b[0m         \u001b[0msettings\u001b[0m \u001b[0;34m=\u001b[0m \u001b[0;34m{\u001b[0m\u001b[0;34m'verbose'\u001b[0m\u001b[0;34m:\u001b[0m\u001b[0mverbose\u001b[0m\u001b[0;34m}\u001b[0m\u001b[0;34m\u001b[0m\u001b[0;34m\u001b[0m\u001b[0m\n\u001b[0;32m--> 234\u001b[0;31m         \u001b[0mparser\u001b[0m\u001b[0;34m.\u001b[0m\u001b[0mannotate\u001b[0m\u001b[0;34m(\u001b[0m\u001b[0;34m**\u001b[0m\u001b[0msettings\u001b[0m\u001b[0;34m)\u001b[0m\u001b[0;34m\u001b[0m\u001b[0;34m\u001b[0m\u001b[0m\n\u001b[0m\u001b[1;32m    235\u001b[0m     \u001b[0;32mexcept\u001b[0m \u001b[0mNotImplementedError\u001b[0m \u001b[0;32mas\u001b[0m \u001b[0merror\u001b[0m\u001b[0;34m:\u001b[0m\u001b[0;34m\u001b[0m\u001b[0;34m\u001b[0m\u001b[0m\n\u001b[1;32m    236\u001b[0m         \u001b[0mmsg\u001b[0m \u001b[0;34m=\u001b[0m \u001b[0mstr\u001b[0m\u001b[0;34m(\u001b[0m\u001b[0merror\u001b[0m\u001b[0;34m)\u001b[0m\u001b[0;34m\u001b[0m\u001b[0;34m\u001b[0m\u001b[0m\n",
            "\u001b[0;32m~/anaconda3/lib/python3.9/site-packages/pyccel/parser/parser.py\u001b[0m in \u001b[0;36mannotate\u001b[0;34m(self, **settings)\u001b[0m\n\u001b[1;32m    161\u001b[0m \u001b[0;34m\u001b[0m\u001b[0m\n\u001b[1;32m    162\u001b[0m         \u001b[0;31m# Create a new semantic parser and store it in object\u001b[0m\u001b[0;34m\u001b[0m\u001b[0;34m\u001b[0m\u001b[0m\n\u001b[0;32m--> 163\u001b[0;31m         parser = SemanticParser(self._syntax_parser,\n\u001b[0m\u001b[1;32m    164\u001b[0m                                 \u001b[0md_parsers\u001b[0m\u001b[0;34m=\u001b[0m\u001b[0mself\u001b[0m\u001b[0;34m.\u001b[0m\u001b[0md_parsers\u001b[0m\u001b[0;34m,\u001b[0m\u001b[0;34m\u001b[0m\u001b[0;34m\u001b[0m\u001b[0m\n\u001b[1;32m    165\u001b[0m                                 \u001b[0mparents\u001b[0m\u001b[0;34m=\u001b[0m\u001b[0mself\u001b[0m\u001b[0;34m.\u001b[0m\u001b[0mparents\u001b[0m\u001b[0;34m,\u001b[0m\u001b[0;34m\u001b[0m\u001b[0;34m\u001b[0m\u001b[0m\n",
            "\u001b[0;32m~/anaconda3/lib/python3.9/site-packages/pyccel/parser/semantic.py\u001b[0m in \u001b[0;36m__init__\u001b[0;34m(self, inputs, **kwargs)\u001b[0m\n\u001b[1;32m    198\u001b[0m         \u001b[0;31m# ... TOD add settings\u001b[0m\u001b[0;34m\u001b[0m\u001b[0;34m\u001b[0m\u001b[0m\n\u001b[1;32m    199\u001b[0m         \u001b[0msettings\u001b[0m \u001b[0;34m=\u001b[0m \u001b[0;34m{\u001b[0m\u001b[0;34m}\u001b[0m\u001b[0;34m\u001b[0m\u001b[0;34m\u001b[0m\u001b[0m\n\u001b[0;32m--> 200\u001b[0;31m         \u001b[0mself\u001b[0m\u001b[0;34m.\u001b[0m\u001b[0mannotate\u001b[0m\u001b[0;34m(\u001b[0m\u001b[0;34m)\u001b[0m\u001b[0;34m\u001b[0m\u001b[0;34m\u001b[0m\u001b[0m\n\u001b[0m\u001b[1;32m    201\u001b[0m         \u001b[0;31m# ...\u001b[0m\u001b[0;34m\u001b[0m\u001b[0;34m\u001b[0m\u001b[0m\n\u001b[1;32m    202\u001b[0m \u001b[0;34m\u001b[0m\u001b[0m\n",
            "\u001b[0;32m~/anaconda3/lib/python3.9/site-packages/pyccel/parser/semantic.py\u001b[0m in \u001b[0;36mannotate\u001b[0;34m(self, **settings)\u001b[0m\n\u001b[1;32m    246\u001b[0m         \u001b[0;31m# we add the try/except to allow the parser to find all possible errors\u001b[0m\u001b[0;34m\u001b[0m\u001b[0;34m\u001b[0m\u001b[0m\n\u001b[1;32m    247\u001b[0m         \u001b[0mpyccel_stage\u001b[0m\u001b[0;34m.\u001b[0m\u001b[0mset_stage\u001b[0m\u001b[0;34m(\u001b[0m\u001b[0;34m'semantic'\u001b[0m\u001b[0;34m)\u001b[0m\u001b[0;34m\u001b[0m\u001b[0;34m\u001b[0m\u001b[0m\n\u001b[0;32m--> 248\u001b[0;31m         \u001b[0mast\u001b[0m \u001b[0;34m=\u001b[0m \u001b[0mself\u001b[0m\u001b[0;34m.\u001b[0m\u001b[0m_visit\u001b[0m\u001b[0;34m(\u001b[0m\u001b[0mast\u001b[0m\u001b[0;34m,\u001b[0m \u001b[0;34m**\u001b[0m\u001b[0msettings\u001b[0m\u001b[0;34m)\u001b[0m\u001b[0;34m\u001b[0m\u001b[0;34m\u001b[0m\u001b[0m\n\u001b[0m\u001b[1;32m    249\u001b[0m \u001b[0;34m\u001b[0m\u001b[0m\n\u001b[1;32m    250\u001b[0m         \u001b[0mself\u001b[0m\u001b[0;34m.\u001b[0m\u001b[0m_ast\u001b[0m \u001b[0;34m=\u001b[0m \u001b[0mast\u001b[0m\u001b[0;34m\u001b[0m\u001b[0;34m\u001b[0m\u001b[0m\n",
            "\u001b[0;32m~/anaconda3/lib/python3.9/site-packages/pyccel/parser/semantic.py\u001b[0m in \u001b[0;36m_visit\u001b[0;34m(self, expr, **settings)\u001b[0m\n\u001b[1;32m   1413\u001b[0m             \u001b[0mannotation_method\u001b[0m \u001b[0;34m=\u001b[0m \u001b[0;34m'_visit_'\u001b[0m \u001b[0;34m+\u001b[0m \u001b[0mcls\u001b[0m\u001b[0;34m.\u001b[0m\u001b[0m__name__\u001b[0m\u001b[0;34m\u001b[0m\u001b[0;34m\u001b[0m\u001b[0m\n\u001b[1;32m   1414\u001b[0m             \u001b[0;32mif\u001b[0m \u001b[0mhasattr\u001b[0m\u001b[0;34m(\u001b[0m\u001b[0mself\u001b[0m\u001b[0;34m,\u001b[0m \u001b[0mannotation_method\u001b[0m\u001b[0;34m)\u001b[0m\u001b[0;34m:\u001b[0m\u001b[0;34m\u001b[0m\u001b[0;34m\u001b[0m\u001b[0m\n\u001b[0;32m-> 1415\u001b[0;31m                 \u001b[0mobj\u001b[0m \u001b[0;34m=\u001b[0m \u001b[0mgetattr\u001b[0m\u001b[0;34m(\u001b[0m\u001b[0mself\u001b[0m\u001b[0;34m,\u001b[0m \u001b[0mannotation_method\u001b[0m\u001b[0;34m)\u001b[0m\u001b[0;34m(\u001b[0m\u001b[0mexpr\u001b[0m\u001b[0;34m,\u001b[0m \u001b[0;34m**\u001b[0m\u001b[0msettings\u001b[0m\u001b[0;34m)\u001b[0m\u001b[0;34m\u001b[0m\u001b[0;34m\u001b[0m\u001b[0m\n\u001b[0m\u001b[1;32m   1416\u001b[0m                 \u001b[0;32mif\u001b[0m \u001b[0misinstance\u001b[0m\u001b[0;34m(\u001b[0m\u001b[0mobj\u001b[0m\u001b[0;34m,\u001b[0m \u001b[0mBasic\u001b[0m\u001b[0;34m)\u001b[0m \u001b[0;32mand\u001b[0m \u001b[0mself\u001b[0m\u001b[0;34m.\u001b[0m\u001b[0m_current_fst_node\u001b[0m\u001b[0;34m:\u001b[0m\u001b[0;34m\u001b[0m\u001b[0;34m\u001b[0m\u001b[0m\n\u001b[1;32m   1417\u001b[0m                     \u001b[0mobj\u001b[0m\u001b[0;34m.\u001b[0m\u001b[0mset_fst\u001b[0m\u001b[0;34m(\u001b[0m\u001b[0mself\u001b[0m\u001b[0;34m.\u001b[0m\u001b[0m_current_fst_node\u001b[0m\u001b[0;34m)\u001b[0m\u001b[0;34m\u001b[0m\u001b[0;34m\u001b[0m\u001b[0m\n",
            "\u001b[0;32m~/anaconda3/lib/python3.9/site-packages/pyccel/parser/semantic.py\u001b[0m in \u001b[0;36m_visit_Module\u001b[0;34m(self, expr, **settings)\u001b[0m\n\u001b[1;32m   1425\u001b[0m \u001b[0;34m\u001b[0m\u001b[0m\n\u001b[1;32m   1426\u001b[0m     \u001b[0;32mdef\u001b[0m \u001b[0m_visit_Module\u001b[0m\u001b[0;34m(\u001b[0m\u001b[0mself\u001b[0m\u001b[0;34m,\u001b[0m \u001b[0mexpr\u001b[0m\u001b[0;34m,\u001b[0m \u001b[0;34m**\u001b[0m\u001b[0msettings\u001b[0m\u001b[0;34m)\u001b[0m\u001b[0;34m:\u001b[0m\u001b[0;34m\u001b[0m\u001b[0;34m\u001b[0m\u001b[0m\n\u001b[0;32m-> 1427\u001b[0;31m         \u001b[0mbody\u001b[0m \u001b[0;34m=\u001b[0m \u001b[0mself\u001b[0m\u001b[0;34m.\u001b[0m\u001b[0m_visit\u001b[0m\u001b[0;34m(\u001b[0m\u001b[0mexpr\u001b[0m\u001b[0;34m.\u001b[0m\u001b[0mprogram\u001b[0m\u001b[0;34m)\u001b[0m\u001b[0;34m.\u001b[0m\u001b[0mbody\u001b[0m\u001b[0;34m\u001b[0m\u001b[0;34m\u001b[0m\u001b[0m\n\u001b[0m\u001b[1;32m   1428\u001b[0m         \u001b[0mprogram_body\u001b[0m      \u001b[0;34m=\u001b[0m \u001b[0;34m[\u001b[0m\u001b[0;34m]\u001b[0m\u001b[0;34m\u001b[0m\u001b[0;34m\u001b[0m\u001b[0m\n\u001b[1;32m   1429\u001b[0m         \u001b[0minit_func_body\u001b[0m    \u001b[0;34m=\u001b[0m \u001b[0;34m[\u001b[0m\u001b[0;34m]\u001b[0m\u001b[0;34m\u001b[0m\u001b[0;34m\u001b[0m\u001b[0m\n",
            "\u001b[0;32m~/anaconda3/lib/python3.9/site-packages/pyccel/parser/semantic.py\u001b[0m in \u001b[0;36m_visit\u001b[0;34m(self, expr, **settings)\u001b[0m\n\u001b[1;32m   1413\u001b[0m             \u001b[0mannotation_method\u001b[0m \u001b[0;34m=\u001b[0m \u001b[0;34m'_visit_'\u001b[0m \u001b[0;34m+\u001b[0m \u001b[0mcls\u001b[0m\u001b[0;34m.\u001b[0m\u001b[0m__name__\u001b[0m\u001b[0;34m\u001b[0m\u001b[0;34m\u001b[0m\u001b[0m\n\u001b[1;32m   1414\u001b[0m             \u001b[0;32mif\u001b[0m \u001b[0mhasattr\u001b[0m\u001b[0;34m(\u001b[0m\u001b[0mself\u001b[0m\u001b[0;34m,\u001b[0m \u001b[0mannotation_method\u001b[0m\u001b[0;34m)\u001b[0m\u001b[0;34m:\u001b[0m\u001b[0;34m\u001b[0m\u001b[0;34m\u001b[0m\u001b[0m\n\u001b[0;32m-> 1415\u001b[0;31m                 \u001b[0mobj\u001b[0m \u001b[0;34m=\u001b[0m \u001b[0mgetattr\u001b[0m\u001b[0;34m(\u001b[0m\u001b[0mself\u001b[0m\u001b[0;34m,\u001b[0m \u001b[0mannotation_method\u001b[0m\u001b[0;34m)\u001b[0m\u001b[0;34m(\u001b[0m\u001b[0mexpr\u001b[0m\u001b[0;34m,\u001b[0m \u001b[0;34m**\u001b[0m\u001b[0msettings\u001b[0m\u001b[0;34m)\u001b[0m\u001b[0;34m\u001b[0m\u001b[0;34m\u001b[0m\u001b[0m\n\u001b[0m\u001b[1;32m   1416\u001b[0m                 \u001b[0;32mif\u001b[0m \u001b[0misinstance\u001b[0m\u001b[0;34m(\u001b[0m\u001b[0mobj\u001b[0m\u001b[0;34m,\u001b[0m \u001b[0mBasic\u001b[0m\u001b[0;34m)\u001b[0m \u001b[0;32mand\u001b[0m \u001b[0mself\u001b[0m\u001b[0;34m.\u001b[0m\u001b[0m_current_fst_node\u001b[0m\u001b[0;34m:\u001b[0m\u001b[0;34m\u001b[0m\u001b[0;34m\u001b[0m\u001b[0m\n\u001b[1;32m   1417\u001b[0m                     \u001b[0mobj\u001b[0m\u001b[0;34m.\u001b[0m\u001b[0mset_fst\u001b[0m\u001b[0;34m(\u001b[0m\u001b[0mself\u001b[0m\u001b[0;34m.\u001b[0m\u001b[0m_current_fst_node\u001b[0m\u001b[0;34m)\u001b[0m\u001b[0;34m\u001b[0m\u001b[0;34m\u001b[0m\u001b[0m\n",
            "\u001b[0;32m~/anaconda3/lib/python3.9/site-packages/pyccel/parser/semantic.py\u001b[0m in \u001b[0;36m_visit_CodeBlock\u001b[0;34m(self, expr, **settings)\u001b[0m\n\u001b[1;32m   1590\u001b[0m \u001b[0;34m\u001b[0m\u001b[0m\n\u001b[1;32m   1591\u001b[0m             \u001b[0;31m# Save parsed code\u001b[0m\u001b[0;34m\u001b[0m\u001b[0;34m\u001b[0m\u001b[0m\n\u001b[0;32m-> 1592\u001b[0;31m             \u001b[0mline\u001b[0m \u001b[0;34m=\u001b[0m \u001b[0mself\u001b[0m\u001b[0;34m.\u001b[0m\u001b[0m_visit\u001b[0m\u001b[0;34m(\u001b[0m\u001b[0mb\u001b[0m\u001b[0;34m,\u001b[0m \u001b[0;34m**\u001b[0m\u001b[0msettings\u001b[0m\u001b[0;34m)\u001b[0m\u001b[0;34m\u001b[0m\u001b[0;34m\u001b[0m\u001b[0m\n\u001b[0m\u001b[1;32m   1593\u001b[0m             \u001b[0mls\u001b[0m\u001b[0;34m.\u001b[0m\u001b[0mextend\u001b[0m\u001b[0;34m(\u001b[0m\u001b[0mself\u001b[0m\u001b[0;34m.\u001b[0m\u001b[0m_additional_exprs\u001b[0m\u001b[0;34m[\u001b[0m\u001b[0;34m-\u001b[0m\u001b[0;36m1\u001b[0m\u001b[0;34m]\u001b[0m\u001b[0;34m)\u001b[0m\u001b[0;34m\u001b[0m\u001b[0;34m\u001b[0m\u001b[0m\n\u001b[1;32m   1594\u001b[0m             \u001b[0mself\u001b[0m\u001b[0;34m.\u001b[0m\u001b[0m_additional_exprs\u001b[0m\u001b[0;34m[\u001b[0m\u001b[0;34m-\u001b[0m\u001b[0;36m1\u001b[0m\u001b[0;34m]\u001b[0m \u001b[0;34m=\u001b[0m \u001b[0;34m[\u001b[0m\u001b[0;34m]\u001b[0m\u001b[0;34m\u001b[0m\u001b[0;34m\u001b[0m\u001b[0m\n",
            "\u001b[0;32m~/anaconda3/lib/python3.9/site-packages/pyccel/parser/semantic.py\u001b[0m in \u001b[0;36m_visit\u001b[0;34m(self, expr, **settings)\u001b[0m\n\u001b[1;32m   1413\u001b[0m             \u001b[0mannotation_method\u001b[0m \u001b[0;34m=\u001b[0m \u001b[0;34m'_visit_'\u001b[0m \u001b[0;34m+\u001b[0m \u001b[0mcls\u001b[0m\u001b[0;34m.\u001b[0m\u001b[0m__name__\u001b[0m\u001b[0;34m\u001b[0m\u001b[0;34m\u001b[0m\u001b[0m\n\u001b[1;32m   1414\u001b[0m             \u001b[0;32mif\u001b[0m \u001b[0mhasattr\u001b[0m\u001b[0;34m(\u001b[0m\u001b[0mself\u001b[0m\u001b[0;34m,\u001b[0m \u001b[0mannotation_method\u001b[0m\u001b[0;34m)\u001b[0m\u001b[0;34m:\u001b[0m\u001b[0;34m\u001b[0m\u001b[0;34m\u001b[0m\u001b[0m\n\u001b[0;32m-> 1415\u001b[0;31m                 \u001b[0mobj\u001b[0m \u001b[0;34m=\u001b[0m \u001b[0mgetattr\u001b[0m\u001b[0;34m(\u001b[0m\u001b[0mself\u001b[0m\u001b[0;34m,\u001b[0m \u001b[0mannotation_method\u001b[0m\u001b[0;34m)\u001b[0m\u001b[0;34m(\u001b[0m\u001b[0mexpr\u001b[0m\u001b[0;34m,\u001b[0m \u001b[0;34m**\u001b[0m\u001b[0msettings\u001b[0m\u001b[0;34m)\u001b[0m\u001b[0;34m\u001b[0m\u001b[0;34m\u001b[0m\u001b[0m\n\u001b[0m\u001b[1;32m   1416\u001b[0m                 \u001b[0;32mif\u001b[0m \u001b[0misinstance\u001b[0m\u001b[0;34m(\u001b[0m\u001b[0mobj\u001b[0m\u001b[0;34m,\u001b[0m \u001b[0mBasic\u001b[0m\u001b[0;34m)\u001b[0m \u001b[0;32mand\u001b[0m \u001b[0mself\u001b[0m\u001b[0;34m.\u001b[0m\u001b[0m_current_fst_node\u001b[0m\u001b[0;34m:\u001b[0m\u001b[0;34m\u001b[0m\u001b[0;34m\u001b[0m\u001b[0m\n\u001b[1;32m   1417\u001b[0m                     \u001b[0mobj\u001b[0m\u001b[0;34m.\u001b[0m\u001b[0mset_fst\u001b[0m\u001b[0;34m(\u001b[0m\u001b[0mself\u001b[0m\u001b[0;34m.\u001b[0m\u001b[0m_current_fst_node\u001b[0m\u001b[0;34m)\u001b[0m\u001b[0;34m\u001b[0m\u001b[0;34m\u001b[0m\u001b[0m\n",
            "\u001b[0;32m~/anaconda3/lib/python3.9/site-packages/pyccel/parser/semantic.py\u001b[0m in \u001b[0;36m_visit_FunctionDef\u001b[0;34m(self, expr, **settings)\u001b[0m\n\u001b[1;32m   3035\u001b[0m \u001b[0;34m\u001b[0m\u001b[0m\n\u001b[1;32m   3036\u001b[0m             \u001b[0;31m# we annotate the body\u001b[0m\u001b[0;34m\u001b[0m\u001b[0;34m\u001b[0m\u001b[0m\n\u001b[0;32m-> 3037\u001b[0;31m             \u001b[0mbody\u001b[0m \u001b[0;34m=\u001b[0m \u001b[0mself\u001b[0m\u001b[0;34m.\u001b[0m\u001b[0m_visit\u001b[0m\u001b[0;34m(\u001b[0m\u001b[0mexpr\u001b[0m\u001b[0;34m.\u001b[0m\u001b[0mbody\u001b[0m\u001b[0;34m)\u001b[0m\u001b[0;34m\u001b[0m\u001b[0;34m\u001b[0m\u001b[0m\n\u001b[0m\u001b[1;32m   3038\u001b[0m \u001b[0;34m\u001b[0m\u001b[0m\n\u001b[1;32m   3039\u001b[0m             \u001b[0;31m# Calling the Garbage collecting,\u001b[0m\u001b[0;34m\u001b[0m\u001b[0;34m\u001b[0m\u001b[0m\n",
            "\u001b[0;32m~/anaconda3/lib/python3.9/site-packages/pyccel/parser/semantic.py\u001b[0m in \u001b[0;36m_visit\u001b[0;34m(self, expr, **settings)\u001b[0m\n\u001b[1;32m   1413\u001b[0m             \u001b[0mannotation_method\u001b[0m \u001b[0;34m=\u001b[0m \u001b[0;34m'_visit_'\u001b[0m \u001b[0;34m+\u001b[0m \u001b[0mcls\u001b[0m\u001b[0;34m.\u001b[0m\u001b[0m__name__\u001b[0m\u001b[0;34m\u001b[0m\u001b[0;34m\u001b[0m\u001b[0m\n\u001b[1;32m   1414\u001b[0m             \u001b[0;32mif\u001b[0m \u001b[0mhasattr\u001b[0m\u001b[0;34m(\u001b[0m\u001b[0mself\u001b[0m\u001b[0;34m,\u001b[0m \u001b[0mannotation_method\u001b[0m\u001b[0;34m)\u001b[0m\u001b[0;34m:\u001b[0m\u001b[0;34m\u001b[0m\u001b[0;34m\u001b[0m\u001b[0m\n\u001b[0;32m-> 1415\u001b[0;31m                 \u001b[0mobj\u001b[0m \u001b[0;34m=\u001b[0m \u001b[0mgetattr\u001b[0m\u001b[0;34m(\u001b[0m\u001b[0mself\u001b[0m\u001b[0;34m,\u001b[0m \u001b[0mannotation_method\u001b[0m\u001b[0;34m)\u001b[0m\u001b[0;34m(\u001b[0m\u001b[0mexpr\u001b[0m\u001b[0;34m,\u001b[0m \u001b[0;34m**\u001b[0m\u001b[0msettings\u001b[0m\u001b[0;34m)\u001b[0m\u001b[0;34m\u001b[0m\u001b[0;34m\u001b[0m\u001b[0m\n\u001b[0m\u001b[1;32m   1416\u001b[0m                 \u001b[0;32mif\u001b[0m \u001b[0misinstance\u001b[0m\u001b[0;34m(\u001b[0m\u001b[0mobj\u001b[0m\u001b[0;34m,\u001b[0m \u001b[0mBasic\u001b[0m\u001b[0;34m)\u001b[0m \u001b[0;32mand\u001b[0m \u001b[0mself\u001b[0m\u001b[0;34m.\u001b[0m\u001b[0m_current_fst_node\u001b[0m\u001b[0;34m:\u001b[0m\u001b[0;34m\u001b[0m\u001b[0;34m\u001b[0m\u001b[0m\n\u001b[1;32m   1417\u001b[0m                     \u001b[0mobj\u001b[0m\u001b[0;34m.\u001b[0m\u001b[0mset_fst\u001b[0m\u001b[0;34m(\u001b[0m\u001b[0mself\u001b[0m\u001b[0;34m.\u001b[0m\u001b[0m_current_fst_node\u001b[0m\u001b[0;34m)\u001b[0m\u001b[0;34m\u001b[0m\u001b[0;34m\u001b[0m\u001b[0m\n",
            "\u001b[0;32m~/anaconda3/lib/python3.9/site-packages/pyccel/parser/semantic.py\u001b[0m in \u001b[0;36m_visit_CodeBlock\u001b[0;34m(self, expr, **settings)\u001b[0m\n\u001b[1;32m   1590\u001b[0m \u001b[0;34m\u001b[0m\u001b[0m\n\u001b[1;32m   1591\u001b[0m             \u001b[0;31m# Save parsed code\u001b[0m\u001b[0;34m\u001b[0m\u001b[0;34m\u001b[0m\u001b[0m\n\u001b[0;32m-> 1592\u001b[0;31m             \u001b[0mline\u001b[0m \u001b[0;34m=\u001b[0m \u001b[0mself\u001b[0m\u001b[0;34m.\u001b[0m\u001b[0m_visit\u001b[0m\u001b[0;34m(\u001b[0m\u001b[0mb\u001b[0m\u001b[0;34m,\u001b[0m \u001b[0;34m**\u001b[0m\u001b[0msettings\u001b[0m\u001b[0;34m)\u001b[0m\u001b[0;34m\u001b[0m\u001b[0;34m\u001b[0m\u001b[0m\n\u001b[0m\u001b[1;32m   1593\u001b[0m             \u001b[0mls\u001b[0m\u001b[0;34m.\u001b[0m\u001b[0mextend\u001b[0m\u001b[0;34m(\u001b[0m\u001b[0mself\u001b[0m\u001b[0;34m.\u001b[0m\u001b[0m_additional_exprs\u001b[0m\u001b[0;34m[\u001b[0m\u001b[0;34m-\u001b[0m\u001b[0;36m1\u001b[0m\u001b[0;34m]\u001b[0m\u001b[0;34m)\u001b[0m\u001b[0;34m\u001b[0m\u001b[0;34m\u001b[0m\u001b[0m\n\u001b[1;32m   1594\u001b[0m             \u001b[0mself\u001b[0m\u001b[0;34m.\u001b[0m\u001b[0m_additional_exprs\u001b[0m\u001b[0;34m[\u001b[0m\u001b[0;34m-\u001b[0m\u001b[0;36m1\u001b[0m\u001b[0;34m]\u001b[0m \u001b[0;34m=\u001b[0m \u001b[0;34m[\u001b[0m\u001b[0;34m]\u001b[0m\u001b[0;34m\u001b[0m\u001b[0;34m\u001b[0m\u001b[0m\n",
            "\u001b[0;32m~/anaconda3/lib/python3.9/site-packages/pyccel/parser/semantic.py\u001b[0m in \u001b[0;36m_visit\u001b[0;34m(self, expr, **settings)\u001b[0m\n\u001b[1;32m   1413\u001b[0m             \u001b[0mannotation_method\u001b[0m \u001b[0;34m=\u001b[0m \u001b[0;34m'_visit_'\u001b[0m \u001b[0;34m+\u001b[0m \u001b[0mcls\u001b[0m\u001b[0;34m.\u001b[0m\u001b[0m__name__\u001b[0m\u001b[0;34m\u001b[0m\u001b[0;34m\u001b[0m\u001b[0m\n\u001b[1;32m   1414\u001b[0m             \u001b[0;32mif\u001b[0m \u001b[0mhasattr\u001b[0m\u001b[0;34m(\u001b[0m\u001b[0mself\u001b[0m\u001b[0;34m,\u001b[0m \u001b[0mannotation_method\u001b[0m\u001b[0;34m)\u001b[0m\u001b[0;34m:\u001b[0m\u001b[0;34m\u001b[0m\u001b[0;34m\u001b[0m\u001b[0m\n\u001b[0;32m-> 1415\u001b[0;31m                 \u001b[0mobj\u001b[0m \u001b[0;34m=\u001b[0m \u001b[0mgetattr\u001b[0m\u001b[0;34m(\u001b[0m\u001b[0mself\u001b[0m\u001b[0;34m,\u001b[0m \u001b[0mannotation_method\u001b[0m\u001b[0;34m)\u001b[0m\u001b[0;34m(\u001b[0m\u001b[0mexpr\u001b[0m\u001b[0;34m,\u001b[0m \u001b[0;34m**\u001b[0m\u001b[0msettings\u001b[0m\u001b[0;34m)\u001b[0m\u001b[0;34m\u001b[0m\u001b[0;34m\u001b[0m\u001b[0m\n\u001b[0m\u001b[1;32m   1416\u001b[0m                 \u001b[0;32mif\u001b[0m \u001b[0misinstance\u001b[0m\u001b[0;34m(\u001b[0m\u001b[0mobj\u001b[0m\u001b[0;34m,\u001b[0m \u001b[0mBasic\u001b[0m\u001b[0;34m)\u001b[0m \u001b[0;32mand\u001b[0m \u001b[0mself\u001b[0m\u001b[0;34m.\u001b[0m\u001b[0m_current_fst_node\u001b[0m\u001b[0;34m:\u001b[0m\u001b[0;34m\u001b[0m\u001b[0;34m\u001b[0m\u001b[0m\n\u001b[1;32m   1417\u001b[0m                     \u001b[0mobj\u001b[0m\u001b[0;34m.\u001b[0m\u001b[0mset_fst\u001b[0m\u001b[0;34m(\u001b[0m\u001b[0mself\u001b[0m\u001b[0;34m.\u001b[0m\u001b[0m_current_fst_node\u001b[0m\u001b[0;34m)\u001b[0m\u001b[0;34m\u001b[0m\u001b[0;34m\u001b[0m\u001b[0m\n",
            "\u001b[0;32m~/anaconda3/lib/python3.9/site-packages/pyccel/parser/semantic.py\u001b[0m in \u001b[0;36m_visit_For\u001b[0;34m(self, expr, **settings)\u001b[0m\n\u001b[1;32m   2493\u001b[0m \u001b[0;34m\u001b[0m\u001b[0m\n\u001b[1;32m   2494\u001b[0m \u001b[0;34m\u001b[0m\u001b[0m\n\u001b[0;32m-> 2495\u001b[0;31m         \u001b[0mbody\u001b[0m \u001b[0;34m=\u001b[0m \u001b[0;34m[\u001b[0m\u001b[0mself\u001b[0m\u001b[0;34m.\u001b[0m\u001b[0m_visit\u001b[0m\u001b[0;34m(\u001b[0m\u001b[0mi\u001b[0m\u001b[0;34m,\u001b[0m \u001b[0;34m**\u001b[0m\u001b[0msettings\u001b[0m\u001b[0;34m)\u001b[0m \u001b[0;32mfor\u001b[0m \u001b[0mi\u001b[0m \u001b[0;32min\u001b[0m \u001b[0mbody\u001b[0m\u001b[0;34m]\u001b[0m\u001b[0;34m\u001b[0m\u001b[0;34m\u001b[0m\u001b[0m\n\u001b[0m\u001b[1;32m   2496\u001b[0m \u001b[0;34m\u001b[0m\u001b[0m\n\u001b[1;32m   2497\u001b[0m         \u001b[0mlocal_vars\u001b[0m \u001b[0;34m=\u001b[0m \u001b[0mlist\u001b[0m\u001b[0;34m(\u001b[0m\u001b[0mself\u001b[0m\u001b[0;34m.\u001b[0m\u001b[0mnamespace\u001b[0m\u001b[0;34m.\u001b[0m\u001b[0mvariables\u001b[0m\u001b[0;34m.\u001b[0m\u001b[0mvalues\u001b[0m\u001b[0;34m(\u001b[0m\u001b[0;34m)\u001b[0m\u001b[0;34m)\u001b[0m\u001b[0;34m\u001b[0m\u001b[0;34m\u001b[0m\u001b[0m\n",
            "\u001b[0;32m~/anaconda3/lib/python3.9/site-packages/pyccel/parser/semantic.py\u001b[0m in \u001b[0;36m<listcomp>\u001b[0;34m(.0)\u001b[0m\n\u001b[1;32m   2493\u001b[0m \u001b[0;34m\u001b[0m\u001b[0m\n\u001b[1;32m   2494\u001b[0m \u001b[0;34m\u001b[0m\u001b[0m\n\u001b[0;32m-> 2495\u001b[0;31m         \u001b[0mbody\u001b[0m \u001b[0;34m=\u001b[0m \u001b[0;34m[\u001b[0m\u001b[0mself\u001b[0m\u001b[0;34m.\u001b[0m\u001b[0m_visit\u001b[0m\u001b[0;34m(\u001b[0m\u001b[0mi\u001b[0m\u001b[0;34m,\u001b[0m \u001b[0;34m**\u001b[0m\u001b[0msettings\u001b[0m\u001b[0;34m)\u001b[0m \u001b[0;32mfor\u001b[0m \u001b[0mi\u001b[0m \u001b[0;32min\u001b[0m \u001b[0mbody\u001b[0m\u001b[0;34m]\u001b[0m\u001b[0;34m\u001b[0m\u001b[0;34m\u001b[0m\u001b[0m\n\u001b[0m\u001b[1;32m   2496\u001b[0m \u001b[0;34m\u001b[0m\u001b[0m\n\u001b[1;32m   2497\u001b[0m         \u001b[0mlocal_vars\u001b[0m \u001b[0;34m=\u001b[0m \u001b[0mlist\u001b[0m\u001b[0;34m(\u001b[0m\u001b[0mself\u001b[0m\u001b[0;34m.\u001b[0m\u001b[0mnamespace\u001b[0m\u001b[0;34m.\u001b[0m\u001b[0mvariables\u001b[0m\u001b[0;34m.\u001b[0m\u001b[0mvalues\u001b[0m\u001b[0;34m(\u001b[0m\u001b[0;34m)\u001b[0m\u001b[0;34m)\u001b[0m\u001b[0;34m\u001b[0m\u001b[0;34m\u001b[0m\u001b[0m\n",
            "\u001b[0;32m~/anaconda3/lib/python3.9/site-packages/pyccel/parser/semantic.py\u001b[0m in \u001b[0;36m_visit\u001b[0;34m(self, expr, **settings)\u001b[0m\n\u001b[1;32m   1413\u001b[0m             \u001b[0mannotation_method\u001b[0m \u001b[0;34m=\u001b[0m \u001b[0;34m'_visit_'\u001b[0m \u001b[0;34m+\u001b[0m \u001b[0mcls\u001b[0m\u001b[0;34m.\u001b[0m\u001b[0m__name__\u001b[0m\u001b[0;34m\u001b[0m\u001b[0;34m\u001b[0m\u001b[0m\n\u001b[1;32m   1414\u001b[0m             \u001b[0;32mif\u001b[0m \u001b[0mhasattr\u001b[0m\u001b[0;34m(\u001b[0m\u001b[0mself\u001b[0m\u001b[0;34m,\u001b[0m \u001b[0mannotation_method\u001b[0m\u001b[0;34m)\u001b[0m\u001b[0;34m:\u001b[0m\u001b[0;34m\u001b[0m\u001b[0;34m\u001b[0m\u001b[0m\n\u001b[0;32m-> 1415\u001b[0;31m                 \u001b[0mobj\u001b[0m \u001b[0;34m=\u001b[0m \u001b[0mgetattr\u001b[0m\u001b[0;34m(\u001b[0m\u001b[0mself\u001b[0m\u001b[0;34m,\u001b[0m \u001b[0mannotation_method\u001b[0m\u001b[0;34m)\u001b[0m\u001b[0;34m(\u001b[0m\u001b[0mexpr\u001b[0m\u001b[0;34m,\u001b[0m \u001b[0;34m**\u001b[0m\u001b[0msettings\u001b[0m\u001b[0;34m)\u001b[0m\u001b[0;34m\u001b[0m\u001b[0;34m\u001b[0m\u001b[0m\n\u001b[0m\u001b[1;32m   1416\u001b[0m                 \u001b[0;32mif\u001b[0m \u001b[0misinstance\u001b[0m\u001b[0;34m(\u001b[0m\u001b[0mobj\u001b[0m\u001b[0;34m,\u001b[0m \u001b[0mBasic\u001b[0m\u001b[0;34m)\u001b[0m \u001b[0;32mand\u001b[0m \u001b[0mself\u001b[0m\u001b[0;34m.\u001b[0m\u001b[0m_current_fst_node\u001b[0m\u001b[0;34m:\u001b[0m\u001b[0;34m\u001b[0m\u001b[0;34m\u001b[0m\u001b[0m\n\u001b[1;32m   1417\u001b[0m                     \u001b[0mobj\u001b[0m\u001b[0;34m.\u001b[0m\u001b[0mset_fst\u001b[0m\u001b[0;34m(\u001b[0m\u001b[0mself\u001b[0m\u001b[0;34m.\u001b[0m\u001b[0m_current_fst_node\u001b[0m\u001b[0;34m)\u001b[0m\u001b[0;34m\u001b[0m\u001b[0;34m\u001b[0m\u001b[0m\n",
            "\u001b[0;32m~/anaconda3/lib/python3.9/site-packages/pyccel/parser/semantic.py\u001b[0m in \u001b[0;36m_visit_For\u001b[0;34m(self, expr, **settings)\u001b[0m\n\u001b[1;32m   2493\u001b[0m \u001b[0;34m\u001b[0m\u001b[0m\n\u001b[1;32m   2494\u001b[0m \u001b[0;34m\u001b[0m\u001b[0m\n\u001b[0;32m-> 2495\u001b[0;31m         \u001b[0mbody\u001b[0m \u001b[0;34m=\u001b[0m \u001b[0;34m[\u001b[0m\u001b[0mself\u001b[0m\u001b[0;34m.\u001b[0m\u001b[0m_visit\u001b[0m\u001b[0;34m(\u001b[0m\u001b[0mi\u001b[0m\u001b[0;34m,\u001b[0m \u001b[0;34m**\u001b[0m\u001b[0msettings\u001b[0m\u001b[0;34m)\u001b[0m \u001b[0;32mfor\u001b[0m \u001b[0mi\u001b[0m \u001b[0;32min\u001b[0m \u001b[0mbody\u001b[0m\u001b[0;34m]\u001b[0m\u001b[0;34m\u001b[0m\u001b[0;34m\u001b[0m\u001b[0m\n\u001b[0m\u001b[1;32m   2496\u001b[0m \u001b[0;34m\u001b[0m\u001b[0m\n\u001b[1;32m   2497\u001b[0m         \u001b[0mlocal_vars\u001b[0m \u001b[0;34m=\u001b[0m \u001b[0mlist\u001b[0m\u001b[0;34m(\u001b[0m\u001b[0mself\u001b[0m\u001b[0;34m.\u001b[0m\u001b[0mnamespace\u001b[0m\u001b[0;34m.\u001b[0m\u001b[0mvariables\u001b[0m\u001b[0;34m.\u001b[0m\u001b[0mvalues\u001b[0m\u001b[0;34m(\u001b[0m\u001b[0;34m)\u001b[0m\u001b[0;34m)\u001b[0m\u001b[0;34m\u001b[0m\u001b[0;34m\u001b[0m\u001b[0m\n",
            "\u001b[0;32m~/anaconda3/lib/python3.9/site-packages/pyccel/parser/semantic.py\u001b[0m in \u001b[0;36m<listcomp>\u001b[0;34m(.0)\u001b[0m\n\u001b[1;32m   2493\u001b[0m \u001b[0;34m\u001b[0m\u001b[0m\n\u001b[1;32m   2494\u001b[0m \u001b[0;34m\u001b[0m\u001b[0m\n\u001b[0;32m-> 2495\u001b[0;31m         \u001b[0mbody\u001b[0m \u001b[0;34m=\u001b[0m \u001b[0;34m[\u001b[0m\u001b[0mself\u001b[0m\u001b[0;34m.\u001b[0m\u001b[0m_visit\u001b[0m\u001b[0;34m(\u001b[0m\u001b[0mi\u001b[0m\u001b[0;34m,\u001b[0m \u001b[0;34m**\u001b[0m\u001b[0msettings\u001b[0m\u001b[0;34m)\u001b[0m \u001b[0;32mfor\u001b[0m \u001b[0mi\u001b[0m \u001b[0;32min\u001b[0m \u001b[0mbody\u001b[0m\u001b[0;34m]\u001b[0m\u001b[0;34m\u001b[0m\u001b[0;34m\u001b[0m\u001b[0m\n\u001b[0m\u001b[1;32m   2496\u001b[0m \u001b[0;34m\u001b[0m\u001b[0m\n\u001b[1;32m   2497\u001b[0m         \u001b[0mlocal_vars\u001b[0m \u001b[0;34m=\u001b[0m \u001b[0mlist\u001b[0m\u001b[0;34m(\u001b[0m\u001b[0mself\u001b[0m\u001b[0;34m.\u001b[0m\u001b[0mnamespace\u001b[0m\u001b[0;34m.\u001b[0m\u001b[0mvariables\u001b[0m\u001b[0;34m.\u001b[0m\u001b[0mvalues\u001b[0m\u001b[0;34m(\u001b[0m\u001b[0;34m)\u001b[0m\u001b[0;34m)\u001b[0m\u001b[0;34m\u001b[0m\u001b[0;34m\u001b[0m\u001b[0m\n",
            "\u001b[0;32m~/anaconda3/lib/python3.9/site-packages/pyccel/parser/semantic.py\u001b[0m in \u001b[0;36m_visit\u001b[0;34m(self, expr, **settings)\u001b[0m\n\u001b[1;32m   1413\u001b[0m             \u001b[0mannotation_method\u001b[0m \u001b[0;34m=\u001b[0m \u001b[0;34m'_visit_'\u001b[0m \u001b[0;34m+\u001b[0m \u001b[0mcls\u001b[0m\u001b[0;34m.\u001b[0m\u001b[0m__name__\u001b[0m\u001b[0;34m\u001b[0m\u001b[0;34m\u001b[0m\u001b[0m\n\u001b[1;32m   1414\u001b[0m             \u001b[0;32mif\u001b[0m \u001b[0mhasattr\u001b[0m\u001b[0;34m(\u001b[0m\u001b[0mself\u001b[0m\u001b[0;34m,\u001b[0m \u001b[0mannotation_method\u001b[0m\u001b[0;34m)\u001b[0m\u001b[0;34m:\u001b[0m\u001b[0;34m\u001b[0m\u001b[0;34m\u001b[0m\u001b[0m\n\u001b[0;32m-> 1415\u001b[0;31m                 \u001b[0mobj\u001b[0m \u001b[0;34m=\u001b[0m \u001b[0mgetattr\u001b[0m\u001b[0;34m(\u001b[0m\u001b[0mself\u001b[0m\u001b[0;34m,\u001b[0m \u001b[0mannotation_method\u001b[0m\u001b[0;34m)\u001b[0m\u001b[0;34m(\u001b[0m\u001b[0mexpr\u001b[0m\u001b[0;34m,\u001b[0m \u001b[0;34m**\u001b[0m\u001b[0msettings\u001b[0m\u001b[0;34m)\u001b[0m\u001b[0;34m\u001b[0m\u001b[0;34m\u001b[0m\u001b[0m\n\u001b[0m\u001b[1;32m   1416\u001b[0m                 \u001b[0;32mif\u001b[0m \u001b[0misinstance\u001b[0m\u001b[0;34m(\u001b[0m\u001b[0mobj\u001b[0m\u001b[0;34m,\u001b[0m \u001b[0mBasic\u001b[0m\u001b[0;34m)\u001b[0m \u001b[0;32mand\u001b[0m \u001b[0mself\u001b[0m\u001b[0;34m.\u001b[0m\u001b[0m_current_fst_node\u001b[0m\u001b[0;34m:\u001b[0m\u001b[0;34m\u001b[0m\u001b[0;34m\u001b[0m\u001b[0m\n\u001b[1;32m   1417\u001b[0m                     \u001b[0mobj\u001b[0m\u001b[0;34m.\u001b[0m\u001b[0mset_fst\u001b[0m\u001b[0;34m(\u001b[0m\u001b[0mself\u001b[0m\u001b[0;34m.\u001b[0m\u001b[0m_current_fst_node\u001b[0m\u001b[0;34m)\u001b[0m\u001b[0;34m\u001b[0m\u001b[0;34m\u001b[0m\u001b[0m\n",
            "\u001b[0;32m~/anaconda3/lib/python3.9/site-packages/pyccel/parser/semantic.py\u001b[0m in \u001b[0;36m_visit_For\u001b[0;34m(self, expr, **settings)\u001b[0m\n\u001b[1;32m   2493\u001b[0m \u001b[0;34m\u001b[0m\u001b[0m\n\u001b[1;32m   2494\u001b[0m \u001b[0;34m\u001b[0m\u001b[0m\n\u001b[0;32m-> 2495\u001b[0;31m         \u001b[0mbody\u001b[0m \u001b[0;34m=\u001b[0m \u001b[0;34m[\u001b[0m\u001b[0mself\u001b[0m\u001b[0;34m.\u001b[0m\u001b[0m_visit\u001b[0m\u001b[0;34m(\u001b[0m\u001b[0mi\u001b[0m\u001b[0;34m,\u001b[0m \u001b[0;34m**\u001b[0m\u001b[0msettings\u001b[0m\u001b[0;34m)\u001b[0m \u001b[0;32mfor\u001b[0m \u001b[0mi\u001b[0m \u001b[0;32min\u001b[0m \u001b[0mbody\u001b[0m\u001b[0;34m]\u001b[0m\u001b[0;34m\u001b[0m\u001b[0;34m\u001b[0m\u001b[0m\n\u001b[0m\u001b[1;32m   2496\u001b[0m \u001b[0;34m\u001b[0m\u001b[0m\n\u001b[1;32m   2497\u001b[0m         \u001b[0mlocal_vars\u001b[0m \u001b[0;34m=\u001b[0m \u001b[0mlist\u001b[0m\u001b[0;34m(\u001b[0m\u001b[0mself\u001b[0m\u001b[0;34m.\u001b[0m\u001b[0mnamespace\u001b[0m\u001b[0;34m.\u001b[0m\u001b[0mvariables\u001b[0m\u001b[0;34m.\u001b[0m\u001b[0mvalues\u001b[0m\u001b[0;34m(\u001b[0m\u001b[0;34m)\u001b[0m\u001b[0;34m)\u001b[0m\u001b[0;34m\u001b[0m\u001b[0;34m\u001b[0m\u001b[0m\n",
            "\u001b[0;32m~/anaconda3/lib/python3.9/site-packages/pyccel/parser/semantic.py\u001b[0m in \u001b[0;36m<listcomp>\u001b[0;34m(.0)\u001b[0m\n\u001b[1;32m   2493\u001b[0m \u001b[0;34m\u001b[0m\u001b[0m\n\u001b[1;32m   2494\u001b[0m \u001b[0;34m\u001b[0m\u001b[0m\n\u001b[0;32m-> 2495\u001b[0;31m         \u001b[0mbody\u001b[0m \u001b[0;34m=\u001b[0m \u001b[0;34m[\u001b[0m\u001b[0mself\u001b[0m\u001b[0;34m.\u001b[0m\u001b[0m_visit\u001b[0m\u001b[0;34m(\u001b[0m\u001b[0mi\u001b[0m\u001b[0;34m,\u001b[0m \u001b[0;34m**\u001b[0m\u001b[0msettings\u001b[0m\u001b[0;34m)\u001b[0m \u001b[0;32mfor\u001b[0m \u001b[0mi\u001b[0m \u001b[0;32min\u001b[0m \u001b[0mbody\u001b[0m\u001b[0;34m]\u001b[0m\u001b[0;34m\u001b[0m\u001b[0;34m\u001b[0m\u001b[0m\n\u001b[0m\u001b[1;32m   2496\u001b[0m \u001b[0;34m\u001b[0m\u001b[0m\n\u001b[1;32m   2497\u001b[0m         \u001b[0mlocal_vars\u001b[0m \u001b[0;34m=\u001b[0m \u001b[0mlist\u001b[0m\u001b[0;34m(\u001b[0m\u001b[0mself\u001b[0m\u001b[0;34m.\u001b[0m\u001b[0mnamespace\u001b[0m\u001b[0;34m.\u001b[0m\u001b[0mvariables\u001b[0m\u001b[0;34m.\u001b[0m\u001b[0mvalues\u001b[0m\u001b[0;34m(\u001b[0m\u001b[0;34m)\u001b[0m\u001b[0;34m)\u001b[0m\u001b[0;34m\u001b[0m\u001b[0;34m\u001b[0m\u001b[0m\n",
            "\u001b[0;32m~/anaconda3/lib/python3.9/site-packages/pyccel/parser/semantic.py\u001b[0m in \u001b[0;36m_visit\u001b[0;34m(self, expr, **settings)\u001b[0m\n\u001b[1;32m   1413\u001b[0m             \u001b[0mannotation_method\u001b[0m \u001b[0;34m=\u001b[0m \u001b[0;34m'_visit_'\u001b[0m \u001b[0;34m+\u001b[0m \u001b[0mcls\u001b[0m\u001b[0;34m.\u001b[0m\u001b[0m__name__\u001b[0m\u001b[0;34m\u001b[0m\u001b[0;34m\u001b[0m\u001b[0m\n\u001b[1;32m   1414\u001b[0m             \u001b[0;32mif\u001b[0m \u001b[0mhasattr\u001b[0m\u001b[0;34m(\u001b[0m\u001b[0mself\u001b[0m\u001b[0;34m,\u001b[0m \u001b[0mannotation_method\u001b[0m\u001b[0;34m)\u001b[0m\u001b[0;34m:\u001b[0m\u001b[0;34m\u001b[0m\u001b[0;34m\u001b[0m\u001b[0m\n\u001b[0;32m-> 1415\u001b[0;31m                 \u001b[0mobj\u001b[0m \u001b[0;34m=\u001b[0m \u001b[0mgetattr\u001b[0m\u001b[0;34m(\u001b[0m\u001b[0mself\u001b[0m\u001b[0;34m,\u001b[0m \u001b[0mannotation_method\u001b[0m\u001b[0;34m)\u001b[0m\u001b[0;34m(\u001b[0m\u001b[0mexpr\u001b[0m\u001b[0;34m,\u001b[0m \u001b[0;34m**\u001b[0m\u001b[0msettings\u001b[0m\u001b[0;34m)\u001b[0m\u001b[0;34m\u001b[0m\u001b[0;34m\u001b[0m\u001b[0m\n\u001b[0m\u001b[1;32m   1416\u001b[0m                 \u001b[0;32mif\u001b[0m \u001b[0misinstance\u001b[0m\u001b[0;34m(\u001b[0m\u001b[0mobj\u001b[0m\u001b[0;34m,\u001b[0m \u001b[0mBasic\u001b[0m\u001b[0;34m)\u001b[0m \u001b[0;32mand\u001b[0m \u001b[0mself\u001b[0m\u001b[0;34m.\u001b[0m\u001b[0m_current_fst_node\u001b[0m\u001b[0;34m:\u001b[0m\u001b[0;34m\u001b[0m\u001b[0;34m\u001b[0m\u001b[0m\n\u001b[1;32m   1417\u001b[0m                     \u001b[0mobj\u001b[0m\u001b[0;34m.\u001b[0m\u001b[0mset_fst\u001b[0m\u001b[0;34m(\u001b[0m\u001b[0mself\u001b[0m\u001b[0;34m.\u001b[0m\u001b[0m_current_fst_node\u001b[0m\u001b[0;34m)\u001b[0m\u001b[0;34m\u001b[0m\u001b[0;34m\u001b[0m\u001b[0m\n",
            "\u001b[0;32m~/anaconda3/lib/python3.9/site-packages/pyccel/parser/semantic.py\u001b[0m in \u001b[0;36m_visit_Assign\u001b[0;34m(self, expr, **settings)\u001b[0m\n\u001b[1;32m   2158\u001b[0m \u001b[0;34m\u001b[0m\u001b[0m\n\u001b[1;32m   2159\u001b[0m         \u001b[0;32melse\u001b[0m\u001b[0;34m:\u001b[0m\u001b[0;34m\u001b[0m\u001b[0;34m\u001b[0m\u001b[0m\n\u001b[0;32m-> 2160\u001b[0;31m             \u001b[0mrhs\u001b[0m \u001b[0;34m=\u001b[0m \u001b[0mself\u001b[0m\u001b[0;34m.\u001b[0m\u001b[0m_visit\u001b[0m\u001b[0;34m(\u001b[0m\u001b[0mrhs\u001b[0m\u001b[0;34m,\u001b[0m \u001b[0;34m**\u001b[0m\u001b[0msettings\u001b[0m\u001b[0;34m)\u001b[0m\u001b[0;34m\u001b[0m\u001b[0;34m\u001b[0m\u001b[0m\n\u001b[0m\u001b[1;32m   2161\u001b[0m \u001b[0;34m\u001b[0m\u001b[0m\n\u001b[1;32m   2162\u001b[0m         \u001b[0;32mif\u001b[0m \u001b[0misinstance\u001b[0m\u001b[0;34m(\u001b[0m\u001b[0mrhs\u001b[0m\u001b[0;34m,\u001b[0m \u001b[0mFunctionDef\u001b[0m\u001b[0;34m)\u001b[0m\u001b[0;34m:\u001b[0m\u001b[0;34m\u001b[0m\u001b[0;34m\u001b[0m\u001b[0m\n",
            "\u001b[0;32m~/anaconda3/lib/python3.9/site-packages/pyccel/parser/semantic.py\u001b[0m in \u001b[0;36m_visit\u001b[0;34m(self, expr, **settings)\u001b[0m\n\u001b[1;32m   1413\u001b[0m             \u001b[0mannotation_method\u001b[0m \u001b[0;34m=\u001b[0m \u001b[0;34m'_visit_'\u001b[0m \u001b[0;34m+\u001b[0m \u001b[0mcls\u001b[0m\u001b[0;34m.\u001b[0m\u001b[0m__name__\u001b[0m\u001b[0;34m\u001b[0m\u001b[0;34m\u001b[0m\u001b[0m\n\u001b[1;32m   1414\u001b[0m             \u001b[0;32mif\u001b[0m \u001b[0mhasattr\u001b[0m\u001b[0;34m(\u001b[0m\u001b[0mself\u001b[0m\u001b[0;34m,\u001b[0m \u001b[0mannotation_method\u001b[0m\u001b[0;34m)\u001b[0m\u001b[0;34m:\u001b[0m\u001b[0;34m\u001b[0m\u001b[0;34m\u001b[0m\u001b[0m\n\u001b[0;32m-> 1415\u001b[0;31m                 \u001b[0mobj\u001b[0m \u001b[0;34m=\u001b[0m \u001b[0mgetattr\u001b[0m\u001b[0;34m(\u001b[0m\u001b[0mself\u001b[0m\u001b[0;34m,\u001b[0m \u001b[0mannotation_method\u001b[0m\u001b[0;34m)\u001b[0m\u001b[0;34m(\u001b[0m\u001b[0mexpr\u001b[0m\u001b[0;34m,\u001b[0m \u001b[0;34m**\u001b[0m\u001b[0msettings\u001b[0m\u001b[0;34m)\u001b[0m\u001b[0;34m\u001b[0m\u001b[0;34m\u001b[0m\u001b[0m\n\u001b[0m\u001b[1;32m   1416\u001b[0m                 \u001b[0;32mif\u001b[0m \u001b[0misinstance\u001b[0m\u001b[0;34m(\u001b[0m\u001b[0mobj\u001b[0m\u001b[0;34m,\u001b[0m \u001b[0mBasic\u001b[0m\u001b[0;34m)\u001b[0m \u001b[0;32mand\u001b[0m \u001b[0mself\u001b[0m\u001b[0;34m.\u001b[0m\u001b[0m_current_fst_node\u001b[0m\u001b[0;34m:\u001b[0m\u001b[0;34m\u001b[0m\u001b[0;34m\u001b[0m\u001b[0m\n\u001b[1;32m   1417\u001b[0m                     \u001b[0mobj\u001b[0m\u001b[0;34m.\u001b[0m\u001b[0mset_fst\u001b[0m\u001b[0;34m(\u001b[0m\u001b[0mself\u001b[0m\u001b[0;34m.\u001b[0m\u001b[0m_current_fst_node\u001b[0m\u001b[0;34m)\u001b[0m\u001b[0;34m\u001b[0m\u001b[0;34m\u001b[0m\u001b[0m\n",
            "\u001b[0;32m~/anaconda3/lib/python3.9/site-packages/pyccel/parser/semantic.py\u001b[0m in \u001b[0;36m_visit_PyccelAdd\u001b[0;34m(self, expr, **settings)\u001b[0m\n\u001b[1;32m   1900\u001b[0m \u001b[0;34m\u001b[0m\u001b[0m\n\u001b[1;32m   1901\u001b[0m     \u001b[0;32mdef\u001b[0m \u001b[0m_visit_PyccelAdd\u001b[0m\u001b[0;34m(\u001b[0m\u001b[0mself\u001b[0m\u001b[0;34m,\u001b[0m \u001b[0mexpr\u001b[0m\u001b[0;34m,\u001b[0m \u001b[0;34m**\u001b[0m\u001b[0msettings\u001b[0m\u001b[0;34m)\u001b[0m\u001b[0;34m:\u001b[0m\u001b[0;34m\u001b[0m\u001b[0;34m\u001b[0m\u001b[0m\n\u001b[0;32m-> 1902\u001b[0;31m         \u001b[0margs\u001b[0m \u001b[0;34m=\u001b[0m \u001b[0;34m[\u001b[0m\u001b[0mself\u001b[0m\u001b[0;34m.\u001b[0m\u001b[0m_visit\u001b[0m\u001b[0;34m(\u001b[0m\u001b[0ma\u001b[0m\u001b[0;34m,\u001b[0m \u001b[0;34m**\u001b[0m\u001b[0msettings\u001b[0m\u001b[0;34m)\u001b[0m \u001b[0;32mfor\u001b[0m \u001b[0ma\u001b[0m \u001b[0;32min\u001b[0m \u001b[0mexpr\u001b[0m\u001b[0;34m.\u001b[0m\u001b[0margs\u001b[0m\u001b[0;34m]\u001b[0m\u001b[0;34m\u001b[0m\u001b[0;34m\u001b[0m\u001b[0m\n\u001b[0m\u001b[1;32m   1903\u001b[0m         \u001b[0;32mif\u001b[0m \u001b[0misinstance\u001b[0m\u001b[0;34m(\u001b[0m\u001b[0margs\u001b[0m\u001b[0;34m[\u001b[0m\u001b[0;36m0\u001b[0m\u001b[0;34m]\u001b[0m\u001b[0;34m,\u001b[0m \u001b[0;34m(\u001b[0m\u001b[0mTupleVariable\u001b[0m\u001b[0;34m,\u001b[0m \u001b[0mPythonTuple\u001b[0m\u001b[0;34m,\u001b[0m \u001b[0mConcatenate\u001b[0m\u001b[0;34m,\u001b[0m \u001b[0mDuplicate\u001b[0m\u001b[0;34m)\u001b[0m\u001b[0;34m)\u001b[0m\u001b[0;34m:\u001b[0m\u001b[0;34m\u001b[0m\u001b[0;34m\u001b[0m\u001b[0m\n\u001b[1;32m   1904\u001b[0m             is_homogeneous = all((isinstance(a, (TupleVariable, PythonTuple)) and a.is_homogeneous) \\\n",
            "\u001b[0;32m~/anaconda3/lib/python3.9/site-packages/pyccel/parser/semantic.py\u001b[0m in \u001b[0;36m<listcomp>\u001b[0;34m(.0)\u001b[0m\n\u001b[1;32m   1900\u001b[0m \u001b[0;34m\u001b[0m\u001b[0m\n\u001b[1;32m   1901\u001b[0m     \u001b[0;32mdef\u001b[0m \u001b[0m_visit_PyccelAdd\u001b[0m\u001b[0;34m(\u001b[0m\u001b[0mself\u001b[0m\u001b[0;34m,\u001b[0m \u001b[0mexpr\u001b[0m\u001b[0;34m,\u001b[0m \u001b[0;34m**\u001b[0m\u001b[0msettings\u001b[0m\u001b[0;34m)\u001b[0m\u001b[0;34m:\u001b[0m\u001b[0;34m\u001b[0m\u001b[0;34m\u001b[0m\u001b[0m\n\u001b[0;32m-> 1902\u001b[0;31m         \u001b[0margs\u001b[0m \u001b[0;34m=\u001b[0m \u001b[0;34m[\u001b[0m\u001b[0mself\u001b[0m\u001b[0;34m.\u001b[0m\u001b[0m_visit\u001b[0m\u001b[0;34m(\u001b[0m\u001b[0ma\u001b[0m\u001b[0;34m,\u001b[0m \u001b[0;34m**\u001b[0m\u001b[0msettings\u001b[0m\u001b[0;34m)\u001b[0m \u001b[0;32mfor\u001b[0m \u001b[0ma\u001b[0m \u001b[0;32min\u001b[0m \u001b[0mexpr\u001b[0m\u001b[0;34m.\u001b[0m\u001b[0margs\u001b[0m\u001b[0;34m]\u001b[0m\u001b[0;34m\u001b[0m\u001b[0;34m\u001b[0m\u001b[0m\n\u001b[0m\u001b[1;32m   1903\u001b[0m         \u001b[0;32mif\u001b[0m \u001b[0misinstance\u001b[0m\u001b[0;34m(\u001b[0m\u001b[0margs\u001b[0m\u001b[0;34m[\u001b[0m\u001b[0;36m0\u001b[0m\u001b[0;34m]\u001b[0m\u001b[0;34m,\u001b[0m \u001b[0;34m(\u001b[0m\u001b[0mTupleVariable\u001b[0m\u001b[0;34m,\u001b[0m \u001b[0mPythonTuple\u001b[0m\u001b[0;34m,\u001b[0m \u001b[0mConcatenate\u001b[0m\u001b[0;34m,\u001b[0m \u001b[0mDuplicate\u001b[0m\u001b[0;34m)\u001b[0m\u001b[0;34m)\u001b[0m\u001b[0;34m:\u001b[0m\u001b[0;34m\u001b[0m\u001b[0;34m\u001b[0m\u001b[0m\n\u001b[1;32m   1904\u001b[0m             is_homogeneous = all((isinstance(a, (TupleVariable, PythonTuple)) and a.is_homogeneous) \\\n",
            "\u001b[0;32m~/anaconda3/lib/python3.9/site-packages/pyccel/parser/semantic.py\u001b[0m in \u001b[0;36m_visit\u001b[0;34m(self, expr, **settings)\u001b[0m\n\u001b[1;32m   1413\u001b[0m             \u001b[0mannotation_method\u001b[0m \u001b[0;34m=\u001b[0m \u001b[0;34m'_visit_'\u001b[0m \u001b[0;34m+\u001b[0m \u001b[0mcls\u001b[0m\u001b[0;34m.\u001b[0m\u001b[0m__name__\u001b[0m\u001b[0;34m\u001b[0m\u001b[0;34m\u001b[0m\u001b[0m\n\u001b[1;32m   1414\u001b[0m             \u001b[0;32mif\u001b[0m \u001b[0mhasattr\u001b[0m\u001b[0;34m(\u001b[0m\u001b[0mself\u001b[0m\u001b[0;34m,\u001b[0m \u001b[0mannotation_method\u001b[0m\u001b[0;34m)\u001b[0m\u001b[0;34m:\u001b[0m\u001b[0;34m\u001b[0m\u001b[0;34m\u001b[0m\u001b[0m\n\u001b[0;32m-> 1415\u001b[0;31m                 \u001b[0mobj\u001b[0m \u001b[0;34m=\u001b[0m \u001b[0mgetattr\u001b[0m\u001b[0;34m(\u001b[0m\u001b[0mself\u001b[0m\u001b[0;34m,\u001b[0m \u001b[0mannotation_method\u001b[0m\u001b[0;34m)\u001b[0m\u001b[0;34m(\u001b[0m\u001b[0mexpr\u001b[0m\u001b[0;34m,\u001b[0m \u001b[0;34m**\u001b[0m\u001b[0msettings\u001b[0m\u001b[0;34m)\u001b[0m\u001b[0;34m\u001b[0m\u001b[0;34m\u001b[0m\u001b[0m\n\u001b[0m\u001b[1;32m   1416\u001b[0m                 \u001b[0;32mif\u001b[0m \u001b[0misinstance\u001b[0m\u001b[0;34m(\u001b[0m\u001b[0mobj\u001b[0m\u001b[0;34m,\u001b[0m \u001b[0mBasic\u001b[0m\u001b[0;34m)\u001b[0m \u001b[0;32mand\u001b[0m \u001b[0mself\u001b[0m\u001b[0;34m.\u001b[0m\u001b[0m_current_fst_node\u001b[0m\u001b[0;34m:\u001b[0m\u001b[0;34m\u001b[0m\u001b[0;34m\u001b[0m\u001b[0m\n\u001b[1;32m   1417\u001b[0m                     \u001b[0mobj\u001b[0m\u001b[0;34m.\u001b[0m\u001b[0mset_fst\u001b[0m\u001b[0;34m(\u001b[0m\u001b[0mself\u001b[0m\u001b[0;34m.\u001b[0m\u001b[0m_current_fst_node\u001b[0m\u001b[0;34m)\u001b[0m\u001b[0;34m\u001b[0m\u001b[0;34m\u001b[0m\u001b[0m\n",
            "\u001b[0;32m~/anaconda3/lib/python3.9/site-packages/pyccel/parser/semantic.py\u001b[0m in \u001b[0;36m_visit_IndexedElement\u001b[0;34m(self, expr, **settings)\u001b[0m\n\u001b[1;32m   1717\u001b[0m             \u001b[0;32mreturn\u001b[0m \u001b[0mNumpyArray\u001b[0m\u001b[0;34m(\u001b[0m\u001b[0mPythonTuple\u001b[0m\u001b[0;34m(\u001b[0m\u001b[0;34m*\u001b[0m\u001b[0;34m[\u001b[0m\u001b[0mvar\u001b[0m\u001b[0;34m[\u001b[0m\u001b[0ma\u001b[0m\u001b[0;34m]\u001b[0m \u001b[0;32mfor\u001b[0m \u001b[0ma\u001b[0m \u001b[0;32min\u001b[0m \u001b[0mnew_expr_args\u001b[0m\u001b[0;34m]\u001b[0m\u001b[0;34m)\u001b[0m\u001b[0;34m)\u001b[0m\u001b[0;34m\u001b[0m\u001b[0;34m\u001b[0m\u001b[0m\n\u001b[1;32m   1718\u001b[0m \u001b[0;34m\u001b[0m\u001b[0m\n\u001b[0;32m-> 1719\u001b[0;31m         \u001b[0;32mreturn\u001b[0m \u001b[0mself\u001b[0m\u001b[0;34m.\u001b[0m\u001b[0m_extract_indexed_from_var\u001b[0m\u001b[0;34m(\u001b[0m\u001b[0mvar\u001b[0m\u001b[0;34m,\u001b[0m \u001b[0margs\u001b[0m\u001b[0;34m,\u001b[0m \u001b[0mexpr\u001b[0m\u001b[0;34m)\u001b[0m\u001b[0;34m\u001b[0m\u001b[0;34m\u001b[0m\u001b[0m\n\u001b[0m\u001b[1;32m   1720\u001b[0m \u001b[0;34m\u001b[0m\u001b[0m\n\u001b[1;32m   1721\u001b[0m     \u001b[0;32mdef\u001b[0m \u001b[0m_visit_PyccelSymbol\u001b[0m\u001b[0;34m(\u001b[0m\u001b[0mself\u001b[0m\u001b[0;34m,\u001b[0m \u001b[0mexpr\u001b[0m\u001b[0;34m,\u001b[0m \u001b[0;34m**\u001b[0m\u001b[0msettings\u001b[0m\u001b[0;34m)\u001b[0m\u001b[0;34m:\u001b[0m\u001b[0;34m\u001b[0m\u001b[0;34m\u001b[0m\u001b[0m\n",
            "\u001b[0;32m~/anaconda3/lib/python3.9/site-packages/pyccel/parser/semantic.py\u001b[0m in \u001b[0;36m_extract_indexed_from_var\u001b[0;34m(self, var, indices, expr)\u001b[0m\n\u001b[1;32m    708\u001b[0m                 severity='error', blocker=self.blocking)\n\u001b[1;32m    709\u001b[0m \u001b[0;34m\u001b[0m\u001b[0m\n\u001b[0;32m--> 710\u001b[0;31m         \u001b[0;32mfor\u001b[0m \u001b[0marg\u001b[0m \u001b[0;32min\u001b[0m \u001b[0mvar\u001b[0m\u001b[0;34m[\u001b[0m\u001b[0mindices\u001b[0m\u001b[0;34m]\u001b[0m\u001b[0;34m.\u001b[0m\u001b[0mindices\u001b[0m\u001b[0;34m:\u001b[0m\u001b[0;34m\u001b[0m\u001b[0;34m\u001b[0m\u001b[0m\n\u001b[0m\u001b[1;32m    711\u001b[0m             \u001b[0;32mif\u001b[0m \u001b[0;32mnot\u001b[0m \u001b[0misinstance\u001b[0m\u001b[0;34m(\u001b[0m\u001b[0marg\u001b[0m\u001b[0;34m,\u001b[0m \u001b[0mSlice\u001b[0m\u001b[0;34m)\u001b[0m \u001b[0;32mand\u001b[0m \u001b[0;32mnot\u001b[0m\u001b[0;31m \u001b[0m\u001b[0;31m\\\u001b[0m\u001b[0;34m\u001b[0m\u001b[0;34m\u001b[0m\u001b[0m\n\u001b[1;32m    712\u001b[0m                 \u001b[0;34m(\u001b[0m\u001b[0mhasattr\u001b[0m\u001b[0;34m(\u001b[0m\u001b[0marg\u001b[0m\u001b[0;34m,\u001b[0m \u001b[0;34m'dtype'\u001b[0m\u001b[0;34m)\u001b[0m \u001b[0;32mand\u001b[0m \u001b[0misinstance\u001b[0m\u001b[0;34m(\u001b[0m\u001b[0marg\u001b[0m\u001b[0;34m.\u001b[0m\u001b[0mdtype\u001b[0m\u001b[0;34m,\u001b[0m \u001b[0mNativeInteger\u001b[0m\u001b[0;34m)\u001b[0m\u001b[0;34m)\u001b[0m\u001b[0;34m:\u001b[0m\u001b[0;34m\u001b[0m\u001b[0;34m\u001b[0m\u001b[0m\n",
            "\u001b[0;32m~/anaconda3/lib/python3.9/site-packages/pyccel/ast/variable.py\u001b[0m in \u001b[0;36m__getitem__\u001b[0;34m(self, *args)\u001b[0m\n\u001b[1;32m    517\u001b[0m \u001b[0;34m\u001b[0m\u001b[0m\n\u001b[1;32m    518\u001b[0m         \u001b[0;32mif\u001b[0m \u001b[0mself\u001b[0m\u001b[0;34m.\u001b[0m\u001b[0mrank\u001b[0m \u001b[0;34m<\u001b[0m \u001b[0mlen\u001b[0m\u001b[0;34m(\u001b[0m\u001b[0margs\u001b[0m\u001b[0;34m)\u001b[0m\u001b[0;34m:\u001b[0m\u001b[0;34m\u001b[0m\u001b[0;34m\u001b[0m\u001b[0m\n\u001b[0;32m--> 519\u001b[0;31m             \u001b[0;32mraise\u001b[0m \u001b[0mIndexError\u001b[0m\u001b[0;34m(\u001b[0m\u001b[0;34m'Rank mismatch.'\u001b[0m\u001b[0;34m)\u001b[0m\u001b[0;34m\u001b[0m\u001b[0;34m\u001b[0m\u001b[0m\n\u001b[0m\u001b[1;32m    520\u001b[0m \u001b[0;34m\u001b[0m\u001b[0m\n\u001b[1;32m    521\u001b[0m         \u001b[0;32mreturn\u001b[0m \u001b[0mIndexedElement\u001b[0m\u001b[0;34m(\u001b[0m\u001b[0mself\u001b[0m\u001b[0;34m,\u001b[0m \u001b[0;34m*\u001b[0m\u001b[0margs\u001b[0m\u001b[0;34m)\u001b[0m\u001b[0;34m\u001b[0m\u001b[0;34m\u001b[0m\u001b[0m\n",
            "\u001b[0;31mIndexError\u001b[0m: Rank mismatch."
          ]
        }
      ],
      "source": [
        "from os import error\n",
        "\n",
        "if __name__ == '__main__':\n",
        "    import numpy as np\n",
        "    import time\n",
        "\n",
        "    # default dimension\n",
        "    nmolec = 100\n",
        "    nmol   = 100\n",
        "    n      = 10\n",
        "\n",
        "    tab     = np.empty((nmol, n, nmolec), dtype=np.double)\n",
        "    tab1    = np.empty((nmol), dtype=np.double)\n",
        "    tab2    = np.zeros((nmol), dtype=np.double)\n",
        "\n",
        "    # pyccelize reduction tab module\n",
        "    from pyccel.epyccel import epyccel\n",
        "    import  reduction_tab\n",
        "    \n",
        "    reduction_p = epyccel(reduction, language='c', accelerators=['openmp'])\n",
        "    \n",
        "#     print(\"Execution of reduction table in parallele with\", reduction.threads_num, \"threads\")\n",
        "\n",
        "    # initialize tab \n",
        "    initialize_table(tab, nmol, n, nmolec)\n",
        "\n",
        "    # start timing\n",
        "    tcpu_0 = time.process_time() # CPU time\n",
        "    t_elapsed_0 = time.time()    # Wall time\n",
        "\n",
        "    # -------------------- computing ------------------\n",
        "    reduction.reduction(tab, tab1, tab2, nmolec, nmol, n)\n",
        "    # ------------------ End computing ----------------\n",
        "\n",
        "    # CPU time spent\n",
        "    tcpu_1 = time.process_time()\n",
        "    tcpu = tcpu_1 - tcpu_0\n",
        "\n",
        "    # Wall time spent\n",
        "    t_elapsed_1 = time.time()\n",
        "    t_elapsed = t_elapsed_1 - t_elapsed_0\n",
        "\n",
        "    # verification of results\n",
        "    tab2c = np.zeros((nmol), dtype=np.double)\n",
        "    for k in range(nmolec):\n",
        "        tab1c = np.zeros((nmol), dtype=np.double)\n",
        "        for j in range(n):\n",
        "            for i in range(nmol):\n",
        "                tab1c[i] = tab1c[i] + tab[i, j, k]\n",
        "        tab2c [:] = tab2c[:nmol] + 2 * tab1c[:]\n",
        "    err = np.max(np.abs(tab2c - tab2) / np.abs(tab2c))\n",
        "    print(\n",
        "        \"Temps elapsed  :\", t_elapsed   , \"\\n\",\n",
        "        \"Temps CPU      :\", tcpu        , \"\\n\",\n",
        "        \"Erreur relative:\", err         , \"\\n\"\n",
        "    )"
      ]
    },
    {
      "cell_type": "markdown",
      "id": "4045d2e1",
      "metadata": {
        "id": "4045d2e1"
      },
      "source": [
        "# Exercise 6 Matrix product by the Strassen algorithm\n",
        "\n",
        "Considering the following code that calculates the matrix product :\n",
        "\n",
        "$$C = A \\times B$$\n",
        "\n",
        "by using Strassen’s recursive algorithm.\n",
        "\n",
        "In this exercise, you must :\n",
        "1. Analyse and parallelize the code by using OpenMP tasks.\n",
        "2. Measure the code performance and plot the speedup curves obtained."
      ]
    },
    {
      "cell_type": "code",
      "execution_count": null,
      "id": "bd9c8a80",
      "metadata": {
        "id": "bd9c8a80",
        "outputId": "d78b29c8-3848-4ce9-8ab0-0388503ffccb"
      },
      "outputs": [
        {
          "name": "stdout",
          "output_type": "stream",
          "text": [
            "\n",
            "ERROR at annotation (semantic) stage\n",
            "\u001b[1mpyccel\u001b[0m:\n",
            " |\u001b[1m\u001b[5m\u001b[31merror\u001b[0m [semantic]: mod_ljgmu746d2br_ljgmu746d2br.py [1]| Function is missing a type annotation (strassen_multiply)\n",
            " |\u001b[1m\u001b[5m\u001b[31mfatal\u001b[0m [semantic]: mod_ljgmu746d2br_ljgmu746d2br.py [5,7]| Undefined variable (n)\n",
            "\n"
          ]
        },
        {
          "ename": "PyccelSemanticError",
          "evalue": "Semantic step failed",
          "output_type": "error",
          "traceback": [
            "\u001b[0;31m---------------------------------------------------------------------------\u001b[0m",
            "\u001b[0;31mPyccelSemanticError\u001b[0m                       Traceback (most recent call last)",
            "\u001b[0;32m/tmp/ipykernel_3244/1146790089.py\u001b[0m in \u001b[0;36m<module>\u001b[0;34m\u001b[0m\n\u001b[1;32m     70\u001b[0m \u001b[0;34m\u001b[0m\u001b[0m\n\u001b[1;32m     71\u001b[0m     \u001b[0;32mfrom\u001b[0m \u001b[0mpyccel\u001b[0m\u001b[0;34m.\u001b[0m\u001b[0mepyccel\u001b[0m \u001b[0;32mimport\u001b[0m \u001b[0mepyccel\u001b[0m\u001b[0;34m\u001b[0m\u001b[0;34m\u001b[0m\u001b[0m\n\u001b[0;32m---> 72\u001b[0;31m     \u001b[0mstrassen\u001b[0m \u001b[0;34m=\u001b[0m \u001b[0mepyccel\u001b[0m\u001b[0;34m(\u001b[0m\u001b[0mstrassen_multiply\u001b[0m\u001b[0;34m,\u001b[0m \u001b[0maccelerators\u001b[0m\u001b[0;34m=\u001b[0m\u001b[0;34m[\u001b[0m\u001b[0;34m'openmp'\u001b[0m\u001b[0;34m]\u001b[0m\u001b[0;34m)\u001b[0m\u001b[0;34m\u001b[0m\u001b[0;34m\u001b[0m\u001b[0m\n\u001b[0m\u001b[1;32m     73\u001b[0m     \u001b[0mnum_threads\u001b[0m \u001b[0;34m=\u001b[0m \u001b[0mepyccel\u001b[0m\u001b[0;34m(\u001b[0m\u001b[0mthreads_num\u001b[0m\u001b[0;34m,\u001b[0m \u001b[0maccelerators\u001b[0m\u001b[0;34m=\u001b[0m\u001b[0;34m[\u001b[0m\u001b[0;34m'openmp'\u001b[0m\u001b[0;34m]\u001b[0m\u001b[0;34m)\u001b[0m\u001b[0;34m\u001b[0m\u001b[0;34m\u001b[0m\u001b[0m\n\u001b[1;32m     74\u001b[0m     \u001b[0mprint\u001b[0m\u001b[0;34m(\u001b[0m\u001b[0;34m\"Execution of Strassen in parallele with\"\u001b[0m\u001b[0;34m,\u001b[0m \u001b[0mnum_threads\u001b[0m\u001b[0;34m(\u001b[0m\u001b[0;34m)\u001b[0m\u001b[0;34m,\u001b[0m \u001b[0;34m\"threads\"\u001b[0m\u001b[0;34m)\u001b[0m\u001b[0;34m\u001b[0m\u001b[0;34m\u001b[0m\u001b[0m\n",
            "\u001b[0;32m~/anaconda3/lib/python3.9/site-packages/pyccel/epyccel.py\u001b[0m in \u001b[0;36mepyccel\u001b[0;34m(python_function_or_module, **kwargs)\u001b[0m\n\u001b[1;32m    331\u001b[0m     \u001b[0;31m# Serial version\u001b[0m\u001b[0;34m\u001b[0m\u001b[0;34m\u001b[0m\u001b[0m\n\u001b[1;32m    332\u001b[0m     \u001b[0;32melse\u001b[0m\u001b[0;34m:\u001b[0m\u001b[0;34m\u001b[0m\u001b[0;34m\u001b[0m\u001b[0m\n\u001b[0;32m--> 333\u001b[0;31m         \u001b[0mmod\u001b[0m\u001b[0;34m,\u001b[0m \u001b[0mfun\u001b[0m \u001b[0;34m=\u001b[0m \u001b[0mepyccel_seq\u001b[0m\u001b[0;34m(\u001b[0m \u001b[0mpython_function_or_module\u001b[0m\u001b[0;34m,\u001b[0m \u001b[0;34m**\u001b[0m\u001b[0mkwargs\u001b[0m \u001b[0;34m)\u001b[0m\u001b[0;34m\u001b[0m\u001b[0;34m\u001b[0m\u001b[0m\n\u001b[0m\u001b[1;32m    334\u001b[0m \u001b[0;34m\u001b[0m\u001b[0m\n\u001b[1;32m    335\u001b[0m     \u001b[0;31m# Return Fortran function (if any), otherwise module\u001b[0m\u001b[0;34m\u001b[0m\u001b[0;34m\u001b[0m\u001b[0m\n",
            "\u001b[0;32m~/anaconda3/lib/python3.9/site-packages/pyccel/epyccel.py\u001b[0m in \u001b[0;36mepyccel_seq\u001b[0;34m(function_or_module, language, compiler, fflags, wrapper_flags, accelerators, verbose, debug, includes, libdirs, modules, libs, folder)\u001b[0m\n\u001b[1;32m    166\u001b[0m         \u001b[0;32mtry\u001b[0m\u001b[0;34m:\u001b[0m\u001b[0;34m\u001b[0m\u001b[0;34m\u001b[0m\u001b[0m\n\u001b[1;32m    167\u001b[0m             \u001b[0;31m# Generate shared library\u001b[0m\u001b[0;34m\u001b[0m\u001b[0;34m\u001b[0m\u001b[0m\n\u001b[0;32m--> 168\u001b[0;31m             execute_pyccel(pymod_filename,\n\u001b[0m\u001b[1;32m    169\u001b[0m                            \u001b[0mverbose\u001b[0m       \u001b[0;34m=\u001b[0m \u001b[0mverbose\u001b[0m\u001b[0;34m,\u001b[0m\u001b[0;34m\u001b[0m\u001b[0;34m\u001b[0m\u001b[0m\n\u001b[1;32m    170\u001b[0m                            \u001b[0mlanguage\u001b[0m      \u001b[0;34m=\u001b[0m \u001b[0mlanguage\u001b[0m\u001b[0;34m,\u001b[0m\u001b[0;34m\u001b[0m\u001b[0;34m\u001b[0m\u001b[0m\n",
            "\u001b[0;32m~/anaconda3/lib/python3.9/site-packages/pyccel/codegen/pipeline.py\u001b[0m in \u001b[0;36mexecute_pyccel\u001b[0;34m(fname, syntax_only, semantic_only, convert_only, verbose, folder, language, compiler, fflags, wrapper_flags, includes, libdirs, modules, libs, debug, accelerators, output_name, compiler_export_file)\u001b[0m\n\u001b[1;32m    240\u001b[0m         \u001b[0mhandle_error\u001b[0m\u001b[0;34m(\u001b[0m\u001b[0;34m'annotation (semantic)'\u001b[0m\u001b[0;34m)\u001b[0m\u001b[0;34m\u001b[0m\u001b[0;34m\u001b[0m\u001b[0m\n\u001b[1;32m    241\u001b[0m         \u001b[0;31m# Raise a new error to avoid a large traceback\u001b[0m\u001b[0;34m\u001b[0m\u001b[0;34m\u001b[0m\u001b[0m\n\u001b[0;32m--> 242\u001b[0;31m         \u001b[0;32mraise\u001b[0m \u001b[0mPyccelSemanticError\u001b[0m\u001b[0;34m(\u001b[0m\u001b[0;34m'Semantic step failed'\u001b[0m\u001b[0;34m)\u001b[0m \u001b[0;32mfrom\u001b[0m \u001b[0;32mNone\u001b[0m\u001b[0;34m\u001b[0m\u001b[0;34m\u001b[0m\u001b[0m\n\u001b[0m\u001b[1;32m    243\u001b[0m \u001b[0;34m\u001b[0m\u001b[0m\n\u001b[1;32m    244\u001b[0m     \u001b[0;32mif\u001b[0m \u001b[0merrors\u001b[0m\u001b[0;34m.\u001b[0m\u001b[0mhas_errors\u001b[0m\u001b[0;34m(\u001b[0m\u001b[0;34m)\u001b[0m\u001b[0;34m:\u001b[0m\u001b[0;34m\u001b[0m\u001b[0;34m\u001b[0m\u001b[0m\n",
            "\u001b[0;31mPyccelSemanticError\u001b[0m: Semantic step failed"
          ]
        }
      ],
      "source": [
        "import time, math\n",
        "import numpy as np\n",
        "from pyccel.epyccel import epyccel\n",
        "from pyccel.decorators import types\n",
        "\n",
        "def threads_num():\n",
        "#     complete this function for getting threads num\n",
        "    res = opm_get_thread_num()\n",
        "    return res\n",
        "\n",
        "\n",
        "\n",
        "def strassen_multiply(A, B, C, n):\n",
        "\n",
        "    \n",
        "    import numpy as np\n",
        "    if n & 1 != 0  or n < 128:\n",
        "        C[:] = np.matmul(A, B)\n",
        "    else:\n",
        "        n2 = n // 2\n",
        "        A11 = A[ 0:n2, 0:n2 ]\n",
        "        A21 = A[ n2:n, 0:n2 ]\n",
        "        A12 = A[ 0:n2, n2:n ]\n",
        "        A22 = A[ n2:n, n2:n ]\n",
        "        B11 = B[ 0:n2, 0:n2 ]\n",
        "        B21 = B[ n2:n, 0:n2 ]\n",
        "        B12 = B[ 0:n2, n2:n ]\n",
        "        B22 = B[ n2:n, n2:n ]\n",
        "\n",
        "        Q1 = np.empty((n2, n2), dtype=np.double)\n",
        "        Q2 = np.empty((n2, n2), dtype=np.double)\n",
        "        Q3 = np.empty((n2, n2), dtype=np.double)\n",
        "        Q4 = np.empty((n2, n2), dtype=np.double)\n",
        "        Q5 = np.empty((n2, n2), dtype=np.double)\n",
        "        Q6 = np.empty((n2, n2), dtype=np.double)\n",
        "        Q7 = np.empty((n2, n2), dtype=np.double)\n",
        "        \n",
        "        strassen_multiply(A11+A22, B11+B22, Q1, n2)\n",
        "        strassen_multiply(A21+A22, B11, Q2, n2)\n",
        "        strassen_multiply(A11, B12-B22, Q3, n2)\n",
        "        strassen_multiply(A22, -B11+B21, Q4, n2) \n",
        "        strassen_multiply(A11+A12, B22, Q5, n2)\n",
        "        strassen_multiply(-A11+A21, B11+B12, Q6, n2)\n",
        "        strassen_multiply(A12-A22, B21+B22, Q7, n2)\n",
        "        C[   :n2,   :n2 ] = Q1+Q4-Q5+Q7\n",
        "        C[ n2: n,   :n2 ] = Q2+Q4\n",
        "        C[   :n2, n2:n  ] = Q3+Q5\n",
        "        C[ n2:n , n2:n  ] = Q1+Q3-Q2+Q6\n",
        "\n",
        "\n",
        "def calcul_erreur(n, A, B, C):\n",
        "    D = np.matmul(A, B) \n",
        "    error = 0.0\n",
        "    for i in range(n):\n",
        "        for j in range(n):\n",
        "            e = C[ i, j ] - D[ i, j ]\n",
        "            error += e * e\n",
        "\n",
        "    error = math.sqrt(error) / n\n",
        "    return error\n",
        "\n",
        "if __name__ == '__main__':\n",
        "    n = 256\n",
        "\n",
        "    # Initialize Matrices\n",
        "    np.random.seed(421)\n",
        "    A = np.random.uniform(0, 1, (n, n))\n",
        "    B = np.random.uniform(0, 1, (n, n))\n",
        "    C = np.empty((n,n), dtype=np.double)\n",
        "\n",
        "    from pyccel.epyccel import epyccel\n",
        "    strassen = epyccel(strassen_multiply, accelerators=['openmp'])\n",
        "    num_threads = epyccel(threads_num, accelerators=['openmp'])\n",
        "    print(\"Execution of Strassen in parallele with\", num_threads(), \"threads\")\n",
        "    \n",
        "    \n",
        "    # Start timing\n",
        "    tcpu_0 = time.process_time() # CPU time\n",
        "    t_elapsed_0 = time.time()    # Wall time\n",
        "    # -------------------- computing ------------------\n",
        "    # Calcul C=A*B par la methode recursive de Strassen\n",
        "    strassen(A, B, C, n)\n",
        "    # ------------------ end computing ----------------\n",
        "    # CPU time spent\n",
        "    tcpu_1 = time.process_time()\n",
        "    tcpu = tcpu_1 - tcpu_0\n",
        "\n",
        "    # Wall time spent\n",
        "    t_elapsed_1 = time.time()\n",
        "    t_elapsed = t_elapsed_1 - t_elapsed_0\n",
        "    # Print result\n",
        "    print(\n",
        "      \"   Erreur        :\", calcul_erreur(n, A, B, C),  \"\\n\",\n",
        "\t  \"   Temps elapsed :\", t_elapsed,                  \"\\n\",\n",
        "\t  \"   Temps CPU     :\", tcpu,                       \"\\n\",\n",
        "    )\n"
      ]
    }
  ],
  "metadata": {
    "kernelspec": {
      "display_name": "Python 3 (ipykernel)",
      "language": "python",
      "name": "python3"
    },
    "language_info": {
      "codemirror_mode": {
        "name": "ipython",
        "version": 3
      },
      "file_extension": ".py",
      "mimetype": "text/x-python",
      "name": "python",
      "nbconvert_exporter": "python",
      "pygments_lexer": "ipython3",
      "version": "3.9.7"
    },
    "colab": {
      "name": "openmp-pyccel_assign (1).ipynb",
      "provenance": [],
      "collapsed_sections": []
    }
  },
  "nbformat": 4,
  "nbformat_minor": 5
}