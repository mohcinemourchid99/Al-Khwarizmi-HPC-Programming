{
 "cells": [
  {
   "cell_type": "markdown",
   "metadata": {},
   "source": [
    "## Imports"
   ]
  },
  {
   "cell_type": "code",
   "execution_count": 6,
   "metadata": {},
   "outputs": [],
   "source": [
    "import numpy  as np\n",
    "from matplotlib import pyplot, cm\n",
    "from mpl_toolkits.mplot3d import Axes3D\n",
    "from numba import njit\n",
    "import time"
   ]
  },
  {
   "cell_type": "markdown",
   "metadata": {},
   "source": [
    "##  Navier Stokes Equation"
   ]
  },
  {
   "cell_type": "markdown",
   "metadata": {},
   "source": [
    "## Pure python"
   ]
  },
  {
   "cell_type": "code",
   "execution_count": 27,
   "metadata": {},
   "outputs": [],
   "source": [
    "def build_up_b_pure(b, rho, dt, u, v, dx, dy):\n",
    "    row, col = p.shape\n",
    "        \n",
    "        \n",
    "    #fill the update of b\n",
    "\n",
    "    return b\n",
    "\n",
    "def pressure_poisson_pure(p, dx, dy, b):\n",
    "    pn = np.empty_like(p)\n",
    "    pn = np.copy(p)\n",
    "    \n",
    "    #fill the update of p\n",
    "        \n",
    "    return p\n",
    "\n",
    "def cavity_flow_pure(nt, u, v, dt, nx, ny, dx, dy, p, rho, nu):\n",
    "    un = np.empty_like(u)\n",
    "    vn = np.empty_like(v)\n",
    "    b = np.zeros((ny, nx))\n",
    "    \n",
    "    pn = np.empty_like(p)\n",
    "    pn = p.copy()\n",
    "        \n",
    "        \n",
    "    return u, v, p"
   ]
  },
  {
   "cell_type": "markdown",
   "metadata": {},
   "source": [
    "## Numba accelerator"
   ]
  },
  {
   "cell_type": "code",
   "execution_count": 28,
   "metadata": {},
   "outputs": [],
   "source": [
    "#add the numba decorator to accelerate code\n",
    "@njit(fastmath=True)\n",
    "def build_up_b_numba(b, rho, dt, u, v, dx, dy):\n",
    "    row, col = p.shape\n",
    "        \n",
    "        \n",
    "    #fill the update of b\n",
    "    b[1:-1, 1:-1] = (rho * (1 / dt * \n",
    "                    ((u[1:-1, 2:] - u[1:-1, 0:-2]) / \n",
    "                     (2 * dx) + (v[2:, 1:-1] - v[0:-2, 1:-1]) / (2 * dy)) -\n",
    "                    ((u[1:-1, 2:] - u[1:-1, 0:-2]) / (2 * dx))**2 -\n",
    "                      2 * ((u[2:, 1:-1] - u[0:-2, 1:-1]) / (2 * dy) *\n",
    "                           (v[1:-1, 2:] - v[1:-1, 0:-2]) / (2 * dx))-\n",
    "                          ((v[2:, 1:-1] - v[0:-2, 1:-1]) / (2 * dy))**2))\n",
    "\n",
    "    return b\n",
    "\n",
    "def pressure_poisson_numba(p, dx, dy, b):\n",
    "    pn = np.empty_like(p)\n",
    "    pn = np.copy(p)\n",
    "    #fill the update of p\n",
    "    \n",
    "    for q in range(nit):\n",
    "        pn = p.copy()\n",
    "        p[1:-1, 1:-1] = (((pn[1:-1, 2:] + pn[1:-1, 0:-2]) * dy**2 + \n",
    "                          (pn[2:, 1:-1] + pn[0:-2, 1:-1]) * dx**2) /\n",
    "                          (2 * (dx**2 + dy**2)) -\n",
    "                          dx**2 * dy**2 / (2 * (dx**2 + dy**2)) * \n",
    "                          b[1:-1,1:-1])\n",
    "\n",
    "        p[:, -1] = p[:, -2] # dp/dx = 0 at x = 2\n",
    "        p[0, :] = p[1, :]   # dp/dy = 0 at y = 0\n",
    "        p[:, 0] = p[:, 1]   # dp/dx = 0 at x = 0\n",
    "        p[-1, :] = 0        # p = 0 at y = 2\n",
    "        \n",
    "    return p\n",
    "\n",
    "def cavity_flow_numba(nt, u, v, dt, nx, ny, dx, dy, p, rho, nu):\n",
    "    un = np.empty_like(u)\n",
    "    vn = np.empty_like(v)\n",
    "    b = np.zeros((ny, nx))\n",
    "    \n",
    "    pn = np.empty_like(p)\n",
    "    pn = np.copy(p)\n",
    "    \n",
    "    #fill the update of u and v\n",
    "    for n in range(nt):\n",
    "        un = u.copy()\n",
    "        vn = v.copy()\n",
    "        b = build_up_b_pure(b, rho, dt, u, v, dx, dy)\n",
    "        p = pressure_poisson_pure(p, dx, dy, b)\n",
    "        u[1:-1, 1:-1] = (un[1:-1, 1:-1]-\n",
    "                        un[1:-1, 1:-1] * dt / dx *\n",
    "                    (un[1:-1, 1:-1] - un[1:-1, 0:-2]) -\n",
    "                        vn[1:-1, 1:-1] * dt / dy *\n",
    "                    (un[1:-1, 1:-1] - un[0:-2, 1:-1]) -\n",
    "                        dt / (2 * rho * dx) * (p[1:-1, 2:] - p[1:-1, 0:-2]) +\n",
    "                        nu * (dt / dx**2 *\n",
    "                    (un[1:-1, 2:] - 2 * un[1:-1, 1:-1] + un[1:-1, 0:-2]) +\n",
    "                        dt / dy**2 *\n",
    "                    (un[2:, 1:-1] - 2 * un[1:-1, 1:-1] + un[0:-2, 1:-1])))\n",
    "        v[1:-1,1:-1] = (vn[1:-1, 1:-1] -\n",
    "                    un[1:-1, 1:-1] * dt / dx *\n",
    "                    (vn[1:-1, 1:-1] - vn[1:-1, 0:-2]) -\n",
    "                    vn[1:-1, 1:-1] * dt / dy *\n",
    "                    (vn[1:-1, 1:-1] - vn[0:-2, 1:-1]) -\n",
    "                    dt / (2 * rho * dy) * (p[2:, 1:-1] - p[0:-2, 1:-1]) +\n",
    "                    nu * (dt / dx**2 *\n",
    "                    (vn[1:-1, 2:] - 2 * vn[1:-1, 1:-1] + vn[1:-1, 0:-2]) +\n",
    "                    dt / dy**2 *\n",
    "                    (vn[2:, 1:-1] - 2 * vn[1:-1, 1:-1] + vn[0:-2, 1:-1])))\n",
    "\n",
    "    u[0, :]  = 0\n",
    "    u[:, 0]  = 0\n",
    "    u[:, -1] = 0\n",
    "    u[-1, :] = 1    # set velocity on cavity lid equal to 1\n",
    "    v[0, :]  = 0\n",
    "    v[-1, :] = 0\n",
    "    v[:, 0]  = 0\n",
    "    v[:, -1] = 0\n",
    "        \n",
    "        \n",
    "    return u, v, p"
   ]
  },
  {
   "cell_type": "markdown",
   "metadata": {},
   "source": [
    "## Inputs"
   ]
  },
  {
   "cell_type": "code",
   "execution_count": 29,
   "metadata": {
    "scrolled": true
   },
   "outputs": [
    {
     "name": "stderr",
     "output_type": "stream",
     "text": [
      "C:\\Users\\PC\\AppData\\Local\\Temp/ipykernel_15296/2596239057.py:26: UserWarning: No contour levels were found within the data range.\n",
      "  pyplot.contour(X, Y, p, cmap=cm.viridis)\n"
     ]
    },
    {
     "data": {
      "image/png": "[encoded data removed]",
      "text/plain": [
       "<Figure size 500x300 with 2 Axes>"
      ]
     },
     "metadata": {
      "needs_background": "light"
     },
     "output_type": "display_data"
    }
   ],
   "source": [
    "nx = 41\n",
    "ny = 41\n",
    "nt = 500\n",
    "nit = 50\n",
    "c = 1\n",
    "dx = 2 / (nx - 1)\n",
    "dy = 2 / (ny - 1)\n",
    "x = np.linspace(0, 2, nx)\n",
    "y = np.linspace(0, 2, ny)\n",
    "X, Y = np.meshgrid(x, y)\n",
    "\n",
    "rho = 1\n",
    "nu = .1\n",
    "dt = .001\n",
    "\n",
    "u = np.zeros((ny, nx))\n",
    "v = np.zeros((ny, nx))\n",
    "p = np.zeros((ny, nx)) \n",
    "b = np.zeros((ny, nx))\n",
    "\n",
    "u, v, p = cavity_flow_pure(nt, u, v, dt, nx, ny, dx, dy, p, rho, nu)\n",
    "\n",
    "fig = pyplot.figure(figsize=(5, 3), dpi=100)\n",
    "pyplot.contourf(X, Y, p, alpha=0.5, cmap=cm.viridis)\n",
    "pyplot.colorbar()\n",
    "pyplot.contour(X, Y, p, cmap=cm.viridis)\n",
    "pyplot.quiver(X[::2, ::2], Y[::2, ::2], u[::2, ::2], v[::2, ::2])\n",
    "pyplot.xlabel('X')\n",
    "pyplot.ylabel('Y');"
   ]
  },
  {
   "cell_type": "code",
   "execution_count": 30,
   "metadata": {},
   "outputs": [
    {
     "name": "stderr",
     "output_type": "stream",
     "text": [
      "C:\\Users\\PC\\AppData\\Local\\Temp/ipykernel_15296/3382859310.py:4: UserWarning: No contour levels were found within the data range.\n",
      "  pyplot.contour(X, Y, p, cmap=cm.viridis)\n"
     ]
    },
    {
     "data": {
      "image/png": "[encoded data removed]",
      "text/plain": [
       "<Figure size 500x300 with 2 Axes>"
      ]
     },
     "metadata": {
      "needs_background": "light"
     },
     "output_type": "display_data"
    }
   ],
   "source": [
    "fig = pyplot.figure(figsize=(5, 3), dpi=100)\n",
    "pyplot.contourf(X, Y, p, alpha=0.5, cmap=cm.viridis)\n",
    "pyplot.colorbar()\n",
    "pyplot.contour(X, Y, p, cmap=cm.viridis)\n",
    "pyplot.streamplot(X, Y, u, v)\n",
    "pyplot.xlabel('X')\n",
    "pyplot.ylabel('Y');"
   ]
  },
  {
   "cell_type": "markdown",
   "metadata": {},
   "source": [
    "## Call Funtions"
   ]
  },
  {
   "cell_type": "markdown",
   "metadata": {},
   "source": [
    "## Pure python function"
   ]
  },
  {
   "cell_type": "code",
   "execution_count": 31,
   "metadata": {},
   "outputs": [
    {
     "name": "stdout",
     "output_type": "stream",
     "text": [
      "4.45 µs ± 54.7 ns per loop (mean ± std. dev. of 7 runs, 100000 loops each)\n"
     ]
    }
   ],
   "source": [
    "%timeit cavity_flow_pure(nt, u, v, dt, ny, ny, dx, dy, p, rho, nu)"
   ]
  },
  {
   "cell_type": "markdown",
   "metadata": {},
   "source": [
    "## Numba accelerator"
   ]
  },
  {
   "cell_type": "code",
   "execution_count": 32,
   "metadata": {},
   "outputs": [
    {
     "name": "stdout",
     "output_type": "stream",
     "text": [
      "76.5 ms ± 11.7 ms per loop (mean ± std. dev. of 7 runs, 10 loops each)\n"
     ]
    }
   ],
   "source": [
    "%timeit cavity_flow_numba(nt, u, v, dt, ny, ny, dx, dy, p, rho, nu)"
   ]
  },
  {
   "cell_type": "code",
   "execution_count": null,
   "metadata": {},
   "outputs": [],
   "source": []
  }
 ],
 "metadata": {
  "kernelspec": {
   "display_name": "Python 3 (ipykernel)",
   "language": "python",
   "name": "python3"
  },
  "language_info": {
   "codemirror_mode": {
    "name": "ipython",
    "version": 3
   },
   "file_extension": ".py",
   "mimetype": "text/x-python",
   "name": "python",
   "nbconvert_exporter": "python",
   "pygments_lexer": "ipython3",
   "version": "3.10.1"
  }
 },
 "nbformat": 4,
 "nbformat_minor": 2
}
