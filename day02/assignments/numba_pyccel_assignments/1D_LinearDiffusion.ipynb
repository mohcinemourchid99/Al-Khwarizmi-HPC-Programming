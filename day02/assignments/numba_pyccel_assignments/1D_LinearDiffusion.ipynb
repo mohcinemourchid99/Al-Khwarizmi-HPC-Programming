{
  "cells": [
    {
      "cell_type": "markdown",
      "metadata": {
        "id": "z4JU_fRhDF9u"
      },
      "source": [
        "## Imports"
      ]
    },
    {
      "cell_type": "code",
      "source": [
        "pip install pyccel"
      ],
      "metadata": {
        "colab": {
          "base_uri": "https://localhost:8080/"
        },
        "id": "Gw76jQOiDJBH",
        "outputId": "0292a575-20e2-4cb7-dec4-1549c26b4dee"
      },
      "execution_count": null,
      "outputs": [
        {
          "output_type": "stream",
          "name": "stdout",
          "text": [
            "Collecting pyccel\n",
            "  Downloading pyccel-1.4.4-py3-none-any.whl (350 kB)\n",
            "\u001b[K     |████████████████████████████████| 350 kB 4.6 MB/s \n",
            "\u001b[?25hCollecting textx>=2.2\n",
            "  Downloading textX-3.0.0-py2.py3-none-any.whl (74 kB)\n",
            "\u001b[K     |████████████████████████████████| 74 kB 2.7 MB/s \n",
            "\u001b[?25hRequirement already satisfied: filelock in /usr/local/lib/python3.7/dist-packages (from pyccel) (3.6.0)\n",
            "Requirement already satisfied: termcolor in /usr/local/lib/python3.7/dist-packages (from pyccel) (1.1.0)\n",
            "Requirement already satisfied: numpy in /usr/local/lib/python3.7/dist-packages (from pyccel) (1.21.5)\n",
            "Requirement already satisfied: sympy>=1.2 in /usr/local/lib/python3.7/dist-packages (from pyccel) (1.7.1)\n",
            "Requirement already satisfied: mpmath>=0.19 in /usr/local/lib/python3.7/dist-packages (from sympy>=1.2->pyccel) (1.2.1)\n",
            "Collecting Arpeggio>=2.0.0\n",
            "  Downloading Arpeggio-2.0.0-py2.py3-none-any.whl (54 kB)\n",
            "\u001b[K     |████████████████████████████████| 54 kB 2.4 MB/s \n",
            "\u001b[?25hRequirement already satisfied: future in /usr/local/lib/python3.7/dist-packages (from textx>=2.2->pyccel) (0.16.0)\n",
            "Installing collected packages: Arpeggio, textx, pyccel\n",
            "Successfully installed Arpeggio-2.0.0 pyccel-1.4.4 textx-3.0.0\n"
          ]
        }
      ]
    },
    {
      "cell_type": "code",
      "execution_count": null,
      "metadata": {
        "id": "_w-jrbWqDF9w"
      },
      "outputs": [],
      "source": [
        "import numpy as np\n",
        "import matplotlib.pyplot as plt\n",
        "from numba import njit\n",
        "import time\n",
        "from pyccel.epyccel import epyccel\n",
        "from pyccel.decorators import types"
      ]
    },
    {
      "cell_type": "markdown",
      "metadata": {
        "id": "bN3LE7ygDF9y"
      },
      "source": [
        "## Pure python function"
      ]
    },
    {
      "cell_type": "code",
      "execution_count": null,
      "metadata": {
        "id": "kAE_AQkrDF9y"
      },
      "outputs": [],
      "source": [
        "def solve_1d_diff_pure(u, un, nt, nx, dt, dx, nu):\n",
        "    \n",
        "    for n in range(nt):  \n",
        "        for i in range(nx): un[i] = u[i]\n",
        "        for i in range(1, nx-1): \n",
        "            u[i] = un[i] + nu * dt / dx**2 * (un[i+1] - 2 * un[i] + un[i-1])\n",
        "    \n",
        "    return 0"
      ]
    },
    {
      "cell_type": "markdown",
      "metadata": {
        "id": "3JHcjejpDF9z"
      },
      "source": [
        "## Numba accelerator"
      ]
    },
    {
      "cell_type": "code",
      "execution_count": null,
      "metadata": {
        "id": "2J7Sue9EDF9z"
      },
      "outputs": [],
      "source": [
        "@njit(fastmath=True)\n",
        "def solve_1d_diff_numba(u, un, nt, nx, dt, dx, nu):\n",
        "    \n",
        "    for n in range(nt):  \n",
        "        for i in range(nx): un[i] = u[i]\n",
        "        for i in range(1, nx-1): \n",
        "            u[i] = un[i] + nu * dt / dx**2 * (un[i+1] - 2 * un[i] + un[i-1])\n",
        "    \n",
        "    return 0"
      ]
    },
    {
      "cell_type": "markdown",
      "metadata": {
        "id": "XQIneDXsDF90"
      },
      "source": [
        "## Pyccel accelerator"
      ]
    },
    {
      "cell_type": "code",
      "execution_count": null,
      "metadata": {
        "id": "ocVBaQI0DF90"
      },
      "outputs": [],
      "source": [
        "#add the pyccel decorator to accelerate code\n",
        "def solve_1d_diff_pyccel(u:'float[:]', un:'float[:]', nt:'int', nx:'int', dt:'float', dx:'float', nu:'float'):\n",
        "    \n",
        "    for n in range(nt):  \n",
        "        for i in range(nx): un[i] = u[i]\n",
        "        for i in range(1, nx-1): \n",
        "            u[i] = un[i] + nu * dt / dx**2 * (un[i+1] - 2 * un[i] + un[i-1])\n",
        "    \n",
        "    return 0"
      ]
    },
    {
      "cell_type": "markdown",
      "metadata": {
        "id": "r_1aKGCqDF91"
      },
      "source": [
        "## Inputs"
      ]
    },
    {
      "cell_type": "code",
      "execution_count": null,
      "metadata": {
        "colab": {
          "base_uri": "https://localhost:8080/",
          "height": 313
        },
        "id": "_LIhSUPNDF92",
        "outputId": "7b17df50-9dd1-40fb-933c-58c4041b9927"
      },
      "outputs": [
        {
          "output_type": "execute_result",
          "data": {
            "text/plain": [
              "Text(0.5, 1.0, '1D Diffusion')"
            ]
          },
          "metadata": {},
          "execution_count": 6
        },
        {
          "output_type": "display_data",
          "data": {
            "text/plain": [
              "<Figure size 432x288 with 1 Axes>"
            ],
            "image/png": "[encoded data removed]"
          },
          "metadata": {
            "needs_background": "light"
          }
        }
      ],
      "source": [
        "nx = 501\n",
        "dx = 2 / (nx - 1)\n",
        "nt = 1500    #the number of timesteps we want to calculate\n",
        "nu = 0.3   #the value of viscosity\n",
        "CFL = .5 #sigma is a parameter, we'll learn more about it later\n",
        "dt = CFL * dx**2 / nu #dt is defined using sigma ... more later!\n",
        "grid = np.linspace(0,2,nx) # creating the space grid\n",
        "\n",
        "u0 = np.ones(nx)      #a numpy array with nx elements all equal to 1.\n",
        "u0[int(.5 / dx):int(1 / dx + 1)] = 2  #setting u = 2 between 0.5 and 1 as per our I.C.s\n",
        "plt.plot(grid,u0);\n",
        "u = u0.copy()\n",
        "un = np.ones(nx) #our placeholder array, un, to advance the solution in time\n",
        "\n",
        "solve_1d_diff_pure(u, un, nt, nx, dt, dx, nu)\n",
        "#Plotting data\n",
        "plt.plot(grid,u);\n",
        "plt.ylim([1.,2.2])\n",
        "plt.xlabel('X')\n",
        "plt.ylabel('Velocity')    \n",
        "plt.title('1D Diffusion') "
      ]
    },
    {
      "cell_type": "markdown",
      "metadata": {
        "id": "g2rBDh4tDF93"
      },
      "source": [
        "## Call Funtions"
      ]
    },
    {
      "cell_type": "markdown",
      "metadata": {
        "id": "b9592XYlDF93"
      },
      "source": [
        "### Pure function"
      ]
    },
    {
      "cell_type": "code",
      "execution_count": null,
      "metadata": {
        "colab": {
          "base_uri": "https://localhost:8080/"
        },
        "id": "RpOCy6j3DF93",
        "outputId": "18aa5dbf-0743-45fa-8ceb-fdab9497a8ab"
      },
      "outputs": [
        {
          "output_type": "stream",
          "name": "stdout",
          "text": [
            "1 loop, best of 5: 971 ms per loop\n"
          ]
        }
      ],
      "source": [
        "%timeit solve_1d_diff_pure(u, un, nt, nx, dt, dx, nu)"
      ]
    },
    {
      "cell_type": "markdown",
      "metadata": {
        "id": "zme2Jy11DF94"
      },
      "source": [
        "### Function with numba accelerator"
      ]
    },
    {
      "cell_type": "code",
      "execution_count": null,
      "metadata": {
        "colab": {
          "base_uri": "https://localhost:8080/"
        },
        "id": "OaPGUjiPDF94",
        "outputId": "a592e4cc-b4aa-4739-e6ec-a592adc47a9f"
      },
      "outputs": [
        {
          "output_type": "stream",
          "name": "stdout",
          "text": [
            "The slowest run took 3206.45 times longer than the fastest. This could mean that an intermediate result is being cached.\n",
            "1 loop, best of 5: 446 µs per loop\n"
          ]
        }
      ],
      "source": [
        "%timeit solve_1d_diff_numba(u, un, nt, nx, dt, dx, nu)"
      ]
    },
    {
      "cell_type": "markdown",
      "metadata": {
        "id": "-V9CXGn6DF94"
      },
      "source": [
        "### Function with pyccel accelerator"
      ]
    },
    {
      "cell_type": "code",
      "execution_count": null,
      "metadata": {
        "id": "zx5LjJbdDF94"
      },
      "outputs": [],
      "source": [
        "solve_1d_diff_f90 = epyccel(solve_1d_diff_pyccel)"
      ]
    },
    {
      "cell_type": "code",
      "execution_count": null,
      "metadata": {
        "colab": {
          "base_uri": "https://localhost:8080/"
        },
        "id": "uNWD_9qsDF95",
        "outputId": "100b778d-d29c-4362-b750-aa5feb239bd9"
      },
      "outputs": [
        {
          "output_type": "stream",
          "name": "stdout",
          "text": [
            "The slowest run took 13.77 times longer than the fastest. This could mean that an intermediate result is being cached.\n",
            "100 loops, best of 5: 1.04 ms per loop\n"
          ]
        }
      ],
      "source": [
        "%timeit solve_1d_diff_f90(u, un, nt, nx, dt, dx, nu)"
      ]
    }
  ],
  "metadata": {
    "hide_input": false,
    "kernelspec": {
      "display_name": "Python 3 (ipykernel)",
      "language": "python",
      "name": "python3"
    },
    "language_info": {
      "codemirror_mode": {
        "name": "ipython",
        "version": 3
      },
      "file_extension": ".py",
      "mimetype": "text/x-python",
      "name": "python",
      "nbconvert_exporter": "python",
      "pygments_lexer": "ipython3",
      "version": "3.9.7"
    },
    "colab": {
      "name": "1D_LinearDiffusion.ipynb",
      "provenance": [],
      "collapsed_sections": []
    }
  },
  "nbformat": 4,
  "nbformat_minor": 0
}