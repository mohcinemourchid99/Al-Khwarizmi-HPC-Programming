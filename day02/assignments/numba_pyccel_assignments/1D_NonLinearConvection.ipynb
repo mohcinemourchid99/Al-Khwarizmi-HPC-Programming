{
  "cells": [
    {
      "cell_type": "markdown",
      "metadata": {
        "id": "SVho2XX_CY47"
      },
      "source": [
        "## Imports"
      ]
    },
    {
      "cell_type": "code",
      "source": [
        "pip install pyccel"
      ],
      "metadata": {
        "colab": {
          "base_uri": "https://localhost:8080/"
        },
        "id": "gosBhGfbCbtE",
        "outputId": "23b056d9-372c-46d2-d009-198f42a7e551"
      },
      "execution_count": null,
      "outputs": [
        {
          "output_type": "stream",
          "name": "stdout",
          "text": [
            "Collecting pyccel\n",
            "  Downloading pyccel-1.4.4-py3-none-any.whl (350 kB)\n",
            "\u001b[?25l\r\u001b[K     |█                               | 10 kB 21.8 MB/s eta 0:00:01\r\u001b[K     |█▉                              | 20 kB 11.3 MB/s eta 0:00:01\r\u001b[K     |██▉                             | 30 kB 8.7 MB/s eta 0:00:01\r\u001b[K     |███▊                            | 40 kB 7.9 MB/s eta 0:00:01\r\u001b[K     |████▊                           | 51 kB 4.3 MB/s eta 0:00:01\r\u001b[K     |█████▋                          | 61 kB 5.0 MB/s eta 0:00:01\r\u001b[K     |██████▌                         | 71 kB 5.6 MB/s eta 0:00:01\r\u001b[K     |███████▌                        | 81 kB 4.2 MB/s eta 0:00:01\r\u001b[K     |████████▍                       | 92 kB 4.7 MB/s eta 0:00:01\r\u001b[K     |█████████▍                      | 102 kB 5.1 MB/s eta 0:00:01\r\u001b[K     |██████████▎                     | 112 kB 5.1 MB/s eta 0:00:01\r\u001b[K     |███████████▎                    | 122 kB 5.1 MB/s eta 0:00:01\r\u001b[K     |████████████▏                   | 133 kB 5.1 MB/s eta 0:00:01\r\u001b[K     |█████████████                   | 143 kB 5.1 MB/s eta 0:00:01\r\u001b[K     |██████████████                  | 153 kB 5.1 MB/s eta 0:00:01\r\u001b[K     |███████████████                 | 163 kB 5.1 MB/s eta 0:00:01\r\u001b[K     |████████████████                | 174 kB 5.1 MB/s eta 0:00:01\r\u001b[K     |████████████████▉               | 184 kB 5.1 MB/s eta 0:00:01\r\u001b[K     |█████████████████▉              | 194 kB 5.1 MB/s eta 0:00:01\r\u001b[K     |██████████████████▊             | 204 kB 5.1 MB/s eta 0:00:01\r\u001b[K     |███████████████████▋            | 215 kB 5.1 MB/s eta 0:00:01\r\u001b[K     |████████████████████▋           | 225 kB 5.1 MB/s eta 0:00:01\r\u001b[K     |█████████████████████▌          | 235 kB 5.1 MB/s eta 0:00:01\r\u001b[K     |██████████████████████▌         | 245 kB 5.1 MB/s eta 0:00:01\r\u001b[K     |███████████████████████▍        | 256 kB 5.1 MB/s eta 0:00:01\r\u001b[K     |████████████████████████▎       | 266 kB 5.1 MB/s eta 0:00:01\r\u001b[K     |█████████████████████████▎      | 276 kB 5.1 MB/s eta 0:00:01\r\u001b[K     |██████████████████████████▏     | 286 kB 5.1 MB/s eta 0:00:01\r\u001b[K     |███████████████████████████▏    | 296 kB 5.1 MB/s eta 0:00:01\r\u001b[K     |████████████████████████████    | 307 kB 5.1 MB/s eta 0:00:01\r\u001b[K     |█████████████████████████████   | 317 kB 5.1 MB/s eta 0:00:01\r\u001b[K     |██████████████████████████████  | 327 kB 5.1 MB/s eta 0:00:01\r\u001b[K     |██████████████████████████████▉ | 337 kB 5.1 MB/s eta 0:00:01\r\u001b[K     |███████████████████████████████▉| 348 kB 5.1 MB/s eta 0:00:01\r\u001b[K     |████████████████████████████████| 350 kB 5.1 MB/s \n",
            "\u001b[?25hRequirement already satisfied: termcolor in /usr/local/lib/python3.7/dist-packages (from pyccel) (1.1.0)\n",
            "Collecting textx>=2.2\n",
            "  Downloading textX-3.0.0-py2.py3-none-any.whl (74 kB)\n",
            "\u001b[K     |████████████████████████████████| 74 kB 1.9 MB/s \n",
            "\u001b[?25hRequirement already satisfied: numpy in /usr/local/lib/python3.7/dist-packages (from pyccel) (1.21.5)\n",
            "Requirement already satisfied: filelock in /usr/local/lib/python3.7/dist-packages (from pyccel) (3.6.0)\n",
            "Requirement already satisfied: sympy>=1.2 in /usr/local/lib/python3.7/dist-packages (from pyccel) (1.7.1)\n",
            "Requirement already satisfied: mpmath>=0.19 in /usr/local/lib/python3.7/dist-packages (from sympy>=1.2->pyccel) (1.2.1)\n",
            "Collecting Arpeggio>=2.0.0\n",
            "  Downloading Arpeggio-2.0.0-py2.py3-none-any.whl (54 kB)\n",
            "\u001b[K     |████████████████████████████████| 54 kB 1.7 MB/s \n",
            "\u001b[?25hRequirement already satisfied: future in /usr/local/lib/python3.7/dist-packages (from textx>=2.2->pyccel) (0.16.0)\n",
            "Installing collected packages: Arpeggio, textx, pyccel\n",
            "Successfully installed Arpeggio-2.0.0 pyccel-1.4.4 textx-3.0.0\n"
          ]
        }
      ]
    },
    {
      "cell_type": "code",
      "execution_count": null,
      "metadata": {
        "id": "8M0ZsLEjCY49"
      },
      "outputs": [],
      "source": [
        "import numpy as np\n",
        "import matplotlib.pyplot as plt\n",
        "import time\n",
        "from numba import njit\n",
        "from pyccel.epyccel import epyccel\n",
        "from pyccel.decorators import types"
      ]
    },
    {
      "cell_type": "markdown",
      "metadata": {
        "id": "JMUUDZxfCY4_"
      },
      "source": [
        "## Pure python function"
      ]
    },
    {
      "cell_type": "code",
      "execution_count": null,
      "metadata": {
        "id": "8668OI13CY5A"
      },
      "outputs": [],
      "source": [
        "def solve_1d_nonlinearconv_pure(u, un, nt, nx, dt, dx):\n",
        "\n",
        "    for n in range(nt):  \n",
        "        for i in range(nx): un[i] = u[i]\n",
        "        for i in range(1, nx): \n",
        "            u[i] = un[i] - un[i] * dt / dx * (un[i] - un[i-1])\n",
        "    return 0\n",
        "    \n",
        "    return 0"
      ]
    },
    {
      "cell_type": "markdown",
      "metadata": {
        "id": "_Mb7BLkjCY5A"
      },
      "source": [
        "## Numba accelerator"
      ]
    },
    {
      "cell_type": "code",
      "execution_count": null,
      "metadata": {
        "id": "OrlAx8r9CY5B"
      },
      "outputs": [],
      "source": [
        "@njit(fastmath=True)\n",
        "def solve_1d_nonlinearconv_numba(u, un, nt, nx, dt, dx):\n",
        "\n",
        "    for n in range(nt):  \n",
        "        for i in range(nx): un[i] = u[i]\n",
        "        for i in range(1, nx): \n",
        "            u[i] = un[i] - un[i] * dt / dx * (un[i] - un[i-1])\n",
        "    \n",
        "    return 0"
      ]
    },
    {
      "cell_type": "markdown",
      "metadata": {
        "id": "H4Q-rc_KCY5B"
      },
      "source": [
        "## Pyccel accelerator"
      ]
    },
    {
      "cell_type": "code",
      "execution_count": null,
      "metadata": {
        "id": "0YP_MXiSCY5C"
      },
      "outputs": [],
      "source": [
        "def solve_1d_nonlinearconv_pyccel(u:'float[:]', un:'float[:]', nt:'int', nx:'int', dt:'float', dx:'float'):\n",
        "\n",
        "    for n in range(nt):  \n",
        "        for i in range(nx): un[i] = u[i]\n",
        "        for i in range(1, nx): \n",
        "            u[i] = un[i] - un[i] * dt / dx * (un[i] - un[i-1])\n",
        "    \n",
        "    return 0"
      ]
    },
    {
      "cell_type": "markdown",
      "metadata": {
        "id": "QlS8cZEBCY5D"
      },
      "source": [
        "## Inputs"
      ]
    },
    {
      "cell_type": "code",
      "execution_count": null,
      "metadata": {
        "colab": {
          "base_uri": "https://localhost:8080/",
          "height": 313
        },
        "id": "CzUL52lmCY5E",
        "outputId": "e732b3ae-c6b8-4ae4-87a8-01f1500e440b"
      },
      "outputs": [
        {
          "output_type": "execute_result",
          "data": {
            "text/plain": [
              "Text(0.5, 1.0, '1D Linear Convection')"
            ]
          },
          "metadata": {},
          "execution_count": 6
        },
        {
          "output_type": "display_data",
          "data": {
            "text/plain": [
              "<Figure size 432x288 with 1 Axes>"
            ],
            "image/png": "[encoded data removed]"
          },
          "metadata": {
            "needs_background": "light"
          }
        }
      ],
      "source": [
        "nx = 41  # try changing this number from 41 to 81 and Run All ... what happens?\n",
        "dx = 2 / (nx-1)\n",
        "nt = 10    #nt is the number of timesteps we want to calculate\n",
        "dt = 0.001\n",
        "grid = np.linspace(0,2,nx) # creating the space grid    \n",
        "\n",
        "u0 = np.ones(nx)      #numpy function ones()\n",
        "u0[int(.5 / dx):int(1 / dx + 1)] = 2  #setting u = 2 between 0.5 and 1 as per our I.C.s\n",
        "plt.plot(grid,u0)\n",
        "u = u0.copy()\n",
        "un = np.ones(nx)\n",
        "\n",
        "solve_1d_nonlinearconv_pure(u, un, nt, nx, dt, dx)\n",
        "#Plotting data\n",
        "plt.plot(grid,u);\n",
        "plt.ylim([1.,2.2])\n",
        "plt.xlabel('X')\n",
        "plt.ylabel('Velocity')    \n",
        "plt.title('1D Linear Convection')"
      ]
    },
    {
      "cell_type": "markdown",
      "metadata": {
        "id": "TeGLkkPTCY5F"
      },
      "source": [
        "## Call Funtions"
      ]
    },
    {
      "cell_type": "markdown",
      "metadata": {
        "id": "HMGU-awYCY5F"
      },
      "source": [
        "### Pure function"
      ]
    },
    {
      "cell_type": "code",
      "execution_count": null,
      "metadata": {
        "colab": {
          "base_uri": "https://localhost:8080/"
        },
        "id": "xWJyC9AFCY5F",
        "outputId": "5d0ba5cf-e9d7-420d-f654-35587d3b401c"
      },
      "outputs": [
        {
          "output_type": "stream",
          "name": "stdout",
          "text": [
            "1000 loops, best of 5: 431 µs per loop\n"
          ]
        }
      ],
      "source": [
        "%timeit solve_1d_nonlinearconv_pure(u, un, nt, nx, dt, dx)"
      ]
    },
    {
      "cell_type": "markdown",
      "metadata": {
        "id": "N9uUtd9TCY5G"
      },
      "source": [
        "### Function with numba accelerator"
      ]
    },
    {
      "cell_type": "code",
      "execution_count": null,
      "metadata": {
        "colab": {
          "base_uri": "https://localhost:8080/"
        },
        "id": "14B_cEN-CY5G",
        "outputId": "1378bd7c-1ea0-4caa-b77e-05ef7edea27a"
      },
      "outputs": [
        {
          "output_type": "stream",
          "name": "stdout",
          "text": [
            "The slowest run took 502069.07 times longer than the fastest. This could mean that an intermediate result is being cached.\n",
            "1 loop, best of 5: 1.86 µs per loop\n"
          ]
        }
      ],
      "source": [
        "%timeit solve_1d_nonlinearconv_numba(u, un, nt, nx, dt, dx)"
      ]
    },
    {
      "cell_type": "markdown",
      "metadata": {
        "id": "k3v9W9UjCY5G"
      },
      "source": [
        "### Function with pyccel accelerator"
      ]
    },
    {
      "cell_type": "code",
      "execution_count": null,
      "metadata": {
        "id": "Eeqs7I1DCY5G"
      },
      "outputs": [],
      "source": [
        "solve_1d_nonlinearconv_f90 = epyccel(solve_1d_nonlinearconv_pyccel)"
      ]
    },
    {
      "cell_type": "code",
      "execution_count": null,
      "metadata": {
        "colab": {
          "base_uri": "https://localhost:8080/"
        },
        "id": "ab-9_kxICY5G",
        "outputId": "758853be-048e-4edb-942c-9fcaa520958c"
      },
      "outputs": [
        {
          "output_type": "stream",
          "name": "stdout",
          "text": [
            "The slowest run took 11.53 times longer than the fastest. This could mean that an intermediate result is being cached.\n",
            "1000000 loops, best of 5: 1.06 µs per loop\n"
          ]
        }
      ],
      "source": [
        "%timeit solve_1d_nonlinearconv_f90(u, un, nt, nx, dt, dx)"
      ]
    }
  ],
  "metadata": {
    "kernelspec": {
      "display_name": "Python 3 (ipykernel)",
      "language": "python",
      "name": "python3"
    },
    "language_info": {
      "codemirror_mode": {
        "name": "ipython",
        "version": 3
      },
      "file_extension": ".py",
      "mimetype": "text/x-python",
      "name": "python",
      "nbconvert_exporter": "python",
      "pygments_lexer": "ipython3",
      "version": "3.9.7"
    },
    "colab": {
      "name": "1D_NonLinearConvection.ipynb",
      "provenance": [],
      "collapsed_sections": []
    }
  },
  "nbformat": 4,
  "nbformat_minor": 0
}