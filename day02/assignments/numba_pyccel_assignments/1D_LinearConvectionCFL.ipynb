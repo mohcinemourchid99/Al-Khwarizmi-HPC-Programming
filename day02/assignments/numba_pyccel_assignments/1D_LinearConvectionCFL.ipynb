{
  "cells": [
    {
      "cell_type": "markdown",
      "metadata": {
        "id": "TlfZLJS_DQrb"
      },
      "source": [
        "## Imports"
      ]
    },
    {
      "cell_type": "code",
      "execution_count": 1,
      "metadata": {
        "id": "t__d7ZxuDQrl"
      },
      "outputs": [],
      "source": [
        "import numpy as np\n",
        "import matplotlib.pyplot as plt"
      ]
    },
    {
      "cell_type": "markdown",
      "metadata": {
        "id": "Ift0Y2Z0DQro"
      },
      "source": [
        "## Linear convection without CFL"
      ]
    },
    {
      "cell_type": "code",
      "execution_count": null,
      "metadata": {
        "id": "4ghNZgxxDQro"
      },
      "outputs": [],
      "source": [
        "def linearconv_withoutCFL(u, nx, nt, dx):\n",
        "    dt = .025  \n",
        "    c = 1.\n",
        "    un = np.zeros(len(u))\n",
        "    for n in range(nt):  \n",
        "        for i in range (nx): un[i] = u[i] \n",
        "        for i in range(1, nx): \n",
        "            u[i] = un[i] - c * dt / dx * (un[i] - un[i-1])\n",
        "    return 0"
      ]
    },
    {
      "cell_type": "markdown",
      "metadata": {
        "id": "45xFiCXWDQrp"
      },
      "source": [
        "## Linear convection with CFL"
      ]
    },
    {
      "cell_type": "code",
      "execution_count": null,
      "metadata": {
        "id": "V8IPyreoDQrq"
      },
      "outputs": [],
      "source": [
        "def linearconv_withCFL(u, nx, nt, dx):\n",
        "    c = 1.\n",
        "    CFL = 0.8\n",
        "    dt = CFL*dx/np.fabs(c)\n",
        "    un = np.ones(len(u))\n",
        "    for n in range(nt):  \n",
        "        for i in range (nx): un[i] = u[i] \n",
        "        for i in range(1, nx): \n",
        "            u[i] = un[i] - c * dt / dx * (un[i] - un[i-1])\n",
        "        \n",
        "    return 0"
      ]
    },
    {
      "cell_type": "markdown",
      "metadata": {
        "id": "pH5EzCJmDQrq"
      },
      "source": [
        "## Inputs"
      ]
    },
    {
      "cell_type": "code",
      "execution_count": null,
      "metadata": {
        "id": "eoQIHb-oDQrr"
      },
      "outputs": [],
      "source": [
        "nx = 83 #change to 83, 85, 91, ... what do you remark ?\n",
        "dx = 2 / (nx - 1)\n",
        "nt = 20    \n",
        "\n",
        "grid = np.linspace(0,2,nx) \n",
        "u0 = np.ones(nx)      \n",
        "u0[int(.5/dx):int(1 / dx + 1)] = 2  "
      ]
    },
    {
      "cell_type": "markdown",
      "metadata": {
        "id": "AfzWp6lpDQrs"
      },
      "source": [
        "## Call Funtions"
      ]
    },
    {
      "cell_type": "markdown",
      "metadata": {
        "id": "KRXQ3H9ADQrs"
      },
      "source": [
        "### Function without CFL"
      ]
    },
    {
      "cell_type": "code",
      "execution_count": null,
      "metadata": {
        "id": "ByheWmj9DQrt",
        "outputId": "66862d7a-053f-43ba-cfac-4e8f6593f74c"
      },
      "outputs": [
        {
          "data": {
            "text/plain": [
              "Text(0.5, 1.0, '1D Linear Convection')"
            ]
          },
          "execution_count": 40,
          "metadata": {},
          "output_type": "execute_result"
        },
        {
          "data": {
            "image/png": "[encoded data removed]",
            "text/plain": [
              "<Figure size 432x288 with 1 Axes>"
            ]
          },
          "metadata": {
            "needs_background": "light"
          },
          "output_type": "display_data"
        }
      ],
      "source": [
        "u = u0.copy()\n",
        "linearconv_withoutCFL(u, nx, nt, dx)\n",
        "\n",
        "plt.plot(grid,u0);\n",
        "plt.plot(grid,u);\n",
        "plt.ylim([1.,2.2])\n",
        "plt.xlabel('X')\n",
        "plt.ylabel('Velocity')    \n",
        "plt.title('1D Linear Convection')  "
      ]
    },
    {
      "cell_type": "markdown",
      "metadata": {
        "id": "pHfC7DwTDQru"
      },
      "source": [
        "### Function with CFL"
      ]
    },
    {
      "cell_type": "code",
      "execution_count": null,
      "metadata": {
        "id": "_xlhCVRHDQrv",
        "outputId": "f921dca0-a865-4f3f-d1d8-1e13aac92acb"
      },
      "outputs": [
        {
          "data": {
            "text/plain": [
              "Text(0.5, 1.0, '1D Linear Convection')"
            ]
          },
          "execution_count": 20,
          "metadata": {},
          "output_type": "execute_result"
        },
        {
          "data": {
            "image/png": "[encoded data removed]",
            "text/plain": [
              "<Figure size 432x288 with 1 Axes>"
            ]
          },
          "metadata": {
            "needs_background": "light"
          },
          "output_type": "display_data"
        }
      ],
      "source": [
        "u = u0.copy()\n",
        "linearconv_withCFL(u, nx, nt, dx)\n",
        "\n",
        "plt.plot(grid,u0);\n",
        "plt.plot(grid,u);\n",
        "plt.ylim([1.,2.2])\n",
        "plt.xlabel('X')\n",
        "plt.ylabel('Velocity')    \n",
        "plt.title('1D Linear Convection') "
      ]
    },
    {
      "cell_type": "code",
      "execution_count": null,
      "metadata": {
        "id": "W6NYRjZcDQrv"
      },
      "outputs": [],
      "source": [
        ""
      ]
    }
  ],
  "metadata": {
    "hide_input": false,
    "kernelspec": {
      "display_name": "Python 3 (ipykernel)",
      "language": "python",
      "name": "python3"
    },
    "language_info": {
      "codemirror_mode": {
        "name": "ipython",
        "version": 3
      },
      "file_extension": ".py",
      "mimetype": "text/x-python",
      "name": "python",
      "nbconvert_exporter": "python",
      "pygments_lexer": "ipython3",
      "version": "3.10.1"
    },
    "colab": {
      "name": "1D_LinearConvectionCFL.ipynb",
      "provenance": []
    }
  },
  "nbformat": 4,
  "nbformat_minor": 0
}