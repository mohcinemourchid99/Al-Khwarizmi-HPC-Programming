{
  "cells": [
    {
      "cell_type": "markdown",
      "metadata": {
        "id": "jFB491PTMIyK"
      },
      "source": [
        "## Imports"
      ]
    },
    {
      "cell_type": "code",
      "source": [
        "pip install pyccel"
      ],
      "metadata": {
        "colab": {
          "base_uri": "https://localhost:8080/"
        },
        "id": "JSoC2mtQQn8L",
        "outputId": "1f5fe65d-daeb-4718-8981-6a641cb8f614"
      },
      "execution_count": 26,
      "outputs": [
        {
          "output_type": "stream",
          "name": "stdout",
          "text": [
            "Requirement already satisfied: pyccel in /usr/local/lib/python3.7/dist-packages (1.4.4)\n",
            "Requirement already satisfied: sympy>=1.2 in /usr/local/lib/python3.7/dist-packages (from pyccel) (1.7.1)\n",
            "Requirement already satisfied: filelock in /usr/local/lib/python3.7/dist-packages (from pyccel) (3.6.0)\n",
            "Requirement already satisfied: numpy in /usr/local/lib/python3.7/dist-packages (from pyccel) (1.21.5)\n",
            "Requirement already satisfied: textx>=2.2 in /usr/local/lib/python3.7/dist-packages (from pyccel) (3.0.0)\n",
            "Requirement already satisfied: termcolor in /usr/local/lib/python3.7/dist-packages (from pyccel) (1.1.0)\n",
            "Requirement already satisfied: mpmath>=0.19 in /usr/local/lib/python3.7/dist-packages (from sympy>=1.2->pyccel) (1.2.1)\n",
            "Requirement already satisfied: future in /usr/local/lib/python3.7/dist-packages (from textx>=2.2->pyccel) (0.16.0)\n",
            "Requirement already satisfied: Arpeggio>=2.0.0 in /usr/local/lib/python3.7/dist-packages (from textx>=2.2->pyccel) (2.0.0)\n"
          ]
        }
      ]
    },
    {
      "cell_type": "code",
      "execution_count": 27,
      "metadata": {
        "id": "3ogT4-PTMIyL"
      },
      "outputs": [],
      "source": [
        "import numpy as np\n",
        "import sympy as sp\n",
        "from sympy.utilities.lambdify import lambdify\n",
        "\n",
        "from sympy import init_printing\n",
        "init_printing(use_latex=True)\n",
        "import matplotlib.pyplot as plt\n",
        "\n",
        "from numba import njit\n",
        "import time\n",
        "from pyccel.epyccel import epyccel\n",
        "from pyccel.decorators import types"
      ]
    },
    {
      "cell_type": "markdown",
      "metadata": {
        "id": "CwpW1lRsMIyM"
      },
      "source": [
        "## Pure python function"
      ]
    },
    {
      "cell_type": "code",
      "execution_count": 28,
      "metadata": {
        "id": "be1ThgpmMIyN"
      },
      "outputs": [],
      "source": [
        "def solve_1d_burger_pure(u, un, nt, nx, dt, dx, nu):\n",
        "    for n in range(nt):  \n",
        "        for i in range(nx): un[i] = u[i]\n",
        "        for i in range(1, nx-1): \n",
        "            u[i] = un[i] - un[i] * dt / dx * (un[i] - un[i-1]) + nu * dt / dx**2 * (un[i+1] - 2 * un[i] + un[i-1])\n",
        "        u[0] = un[0] - un[0] * dt / dx * (un[0] - un[-2]) + nu * dt / dx**2 * (un[1] - 2 * un[0] + un[-2])\n",
        "        u[-1] = u[0]\n",
        "    return 0"
      ]
    },
    {
      "cell_type": "markdown",
      "metadata": {
        "id": "2sbN3893MIyN"
      },
      "source": [
        "## Numba accelerator"
      ]
    },
    {
      "cell_type": "code",
      "execution_count": 29,
      "metadata": {
        "id": "wOSDYQHfMIyN"
      },
      "outputs": [],
      "source": [
        "@njit(fastmath=True)\n",
        "def solve_1d_burger_numba(u, un, nt, nx, dt, dx, nu):\n",
        "    for n in range(nt):  \n",
        "        for i in range(nx): un[i] = u[i]\n",
        "        for i in range(1, nx-1): \n",
        "            u[i] = un[i] - un[i] * dt / dx * (un[i] - un[i-1]) + nu * dt / dx**2 * (un[i+1] - 2 * un[i] + un[i-1])\n",
        "        u[0] = un[0] - un[0] * dt / dx * (un[0] + un[-2]) + nu * dt / dx**2 * (un[1] - 2 * un[0] + un[-2])\n",
        "        u[-1] = u[0]\n",
        "    return 0"
      ]
    },
    {
      "cell_type": "markdown",
      "metadata": {
        "id": "U1UXAE_fMIyN"
      },
      "source": [
        "## Pyccel accelerator"
      ]
    },
    {
      "cell_type": "code",
      "execution_count": 30,
      "metadata": {
        "id": "58WkFTg3MIyO"
      },
      "outputs": [],
      "source": [
        "#add the pyccel decorator to accelerate code\n",
        "def solve_1d_burger_pyccel(u:'float[:]', un:'float[:]', nt:'int', nx:'int', dt:'float', dx:'float', nu:'float'):\n",
        "    for n in range(nt):  \n",
        "        for i in range(nx): un[i] = u[i]\n",
        "        for i in range(1, nx-1): \n",
        "            u[i] = un[i] - un[i] * dt / dx * (un[i] - un[i-1]) + nu * dt / dx**2 * (un[i+1] - 2 * un[i] + un[i-1])\n",
        "        u[0] = un[0] - un[0] * dt / dx * (un[0] + un[-2]) + nu * dt / dx**2 * (un[1] - 2 * un[0] + un[-2])\n",
        "        u[-1] = u[0]\n",
        "        \n",
        "    return 0"
      ]
    },
    {
      "cell_type": "markdown",
      "metadata": {
        "id": "Fr-Y--A3MIyO"
      },
      "source": [
        "## Inputs"
      ]
    },
    {
      "cell_type": "code",
      "execution_count": 31,
      "metadata": {
        "id": "1qMq41RrMIyP"
      },
      "outputs": [],
      "source": [
        "#sympy computation\n",
        "x, nu, t = sp.symbols('x nu t')\n",
        "phi = (sp.exp(-(x - 4 * t)**2 / (4 * nu * (t + 1))) +\n",
        "       sp.exp(-(x - 4 * t - 2 * sp.pi)**2 / (4 * nu * (t + 1))))\n",
        "\n",
        "phiprime = phi.diff(x)\n",
        "u = -2 * nu * (phiprime / phi) + 4\n",
        "ufunc = lambdify((t, x, nu), u)"
      ]
    },
    {
      "cell_type": "code",
      "execution_count": 32,
      "metadata": {
        "id": "ZgW0iGuPMIyP"
      },
      "outputs": [],
      "source": [
        "###variable declarations\n",
        "nx = 201\n",
        "nt = 100\n",
        "dx = 2 * np.pi / (nx - 1)\n",
        "nu = .07\n",
        "dt = dx * nu\n",
        "\n",
        "x = np.linspace(0, 2 * np.pi, nx)\n",
        "un = np.empty(nx)\n",
        "t = 0"
      ]
    },
    {
      "cell_type": "markdown",
      "metadata": {
        "id": "hQ-wlpmSMIyP"
      },
      "source": [
        "## Plot initial condition"
      ]
    },
    {
      "cell_type": "code",
      "execution_count": 33,
      "metadata": {
        "colab": {
          "base_uri": "https://localhost:8080/",
          "height": 269
        },
        "id": "pkCJgSAFMIyP",
        "outputId": "01d7df17-742e-474e-9317-251f85395cb1"
      },
      "outputs": [
        {
          "output_type": "display_data",
          "data": {
            "text/plain": [
              "<Figure size 432x288 with 1 Axes>"
            ],
            "image/png": "[encoded data removed]"
          },
          "metadata": {
            "needs_background": "light"
          }
        }
      ],
      "source": [
        "u = np.asarray([ufunc(t, x0, nu) for x0 in x])\n",
        "plt.figure()\n",
        "plt.plot(x, u, marker='o', lw=2)\n",
        "plt.xlim([0, 2 * np.pi])\n",
        "plt.ylim([0, 10]);"
      ]
    },
    {
      "cell_type": "code",
      "execution_count": 34,
      "metadata": {
        "colab": {
          "base_uri": "https://localhost:8080/",
          "height": 269
        },
        "id": "Z69ee3ZQMIyQ",
        "outputId": "c2b2a759-1186-4623-e111-5db60e55a662"
      },
      "outputs": [
        {
          "output_type": "display_data",
          "data": {
            "text/plain": [
              "<Figure size 432x288 with 1 Axes>"
            ],
            "image/png": "[encoded data removed]"
          },
          "metadata": {
            "needs_background": "light"
          }
        }
      ],
      "source": [
        "solve_1d_burger_pure(u, un, nt, nx, dt, dx, nu)\n",
        "\n",
        "# Analytical solution\n",
        "u_analytical = np.asarray([ufunc(nt * dt, xi, nu) for xi in x])\n",
        "\n",
        "\n",
        "u = np.asarray([ufunc(t, x0, nu) for x0 in x])\n",
        "plt.figure()\n",
        "plt.plot(x, u, marker='o', lw=2, label='Computational')\n",
        "# plt.xlim([0, 2 * np.pi])\n",
        "# plt.ylim([0, 10]);\n",
        "\n",
        "#Plotting data\n",
        "# plt.figure()\n",
        "# plt.plot(x,u, marker='o', lw=2, label='Computational')\n",
        "plt.plot(x, u_analytical, label='Analytical')\n",
        "plt.xlim([0, 2 * np.pi])\n",
        "plt.ylim([0, 10])\n",
        "plt.legend();"
      ]
    },
    {
      "cell_type": "markdown",
      "metadata": {
        "id": "6xrWEdRsMIyQ"
      },
      "source": [
        "## Call Funtions"
      ]
    },
    {
      "cell_type": "markdown",
      "metadata": {
        "id": "Y92-ZXvSMIyR"
      },
      "source": [
        "### Pure function"
      ]
    },
    {
      "cell_type": "code",
      "execution_count": 35,
      "metadata": {
        "colab": {
          "base_uri": "https://localhost:8080/"
        },
        "id": "txNMhyhSMIyR",
        "outputId": "3daa31f3-4c89-4ffd-a318-8040c30a29b9"
      },
      "outputs": [
        {
          "output_type": "stream",
          "name": "stdout",
          "text": [
            "10 loops, best of 5: 39.1 ms per loop\n"
          ]
        }
      ],
      "source": [
        "%timeit solve_1d_burger_pure(u, un, nt, nx, dt, dx, nu)"
      ]
    },
    {
      "cell_type": "markdown",
      "metadata": {
        "id": "d--CSQiuMIyR"
      },
      "source": [
        "### Function with numba accelerator"
      ]
    },
    {
      "cell_type": "code",
      "execution_count": 36,
      "metadata": {
        "colab": {
          "base_uri": "https://localhost:8080/"
        },
        "id": "SJTAqYF_MIyR",
        "outputId": "cdf7db33-4204-4012-d970-1722aca7ef0f"
      },
      "outputs": [
        {
          "output_type": "stream",
          "name": "stdout",
          "text": [
            "The slowest run took 28725.60 times longer than the fastest. This could mean that an intermediate result is being cached.\n",
            "1 loop, best of 5: 14.8 µs per loop\n"
          ]
        }
      ],
      "source": [
        "%timeit solve_1d_burger_numba(u, un, nt, nx, dt, dx, nu)"
      ]
    },
    {
      "cell_type": "markdown",
      "metadata": {
        "id": "mTgCcttiMIyR"
      },
      "source": [
        "### Function with pyccel accelerator"
      ]
    },
    {
      "cell_type": "code",
      "execution_count": 37,
      "metadata": {
        "colab": {
          "base_uri": "https://localhost:8080/"
        },
        "id": "klE3gJjNMIyS",
        "outputId": "92ce0096-3fc5-40c8-9e67-23ed4f07b2c4"
      },
      "outputs": [
        {
          "output_type": "stream",
          "name": "stdout",
          "text": [
            "10000 loops, best of 5: 81.7 µs per loop\n"
          ]
        }
      ],
      "source": [
        "solve_1d_burger_f90 = epyccel(solve_1d_burger_pyccel)\n",
        "%timeit solve_1d_burger_f90(u, un, nt, nx, dt, dx, nu)"
      ]
    }
  ],
  "metadata": {
    "kernelspec": {
      "display_name": "Python 3 (ipykernel)",
      "language": "python",
      "name": "python3"
    },
    "language_info": {
      "codemirror_mode": {
        "name": "ipython",
        "version": 3
      },
      "file_extension": ".py",
      "mimetype": "text/x-python",
      "name": "python",
      "nbconvert_exporter": "python",
      "pygments_lexer": "ipython3",
      "version": "3.9.7"
    },
    "colab": {
      "name": "1D_Burger.ipynb",
      "provenance": [],
      "collapsed_sections": []
    }
  },
  "nbformat": 4,
  "nbformat_minor": 0
}